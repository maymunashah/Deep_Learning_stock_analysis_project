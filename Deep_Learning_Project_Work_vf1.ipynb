{
  "metadata": {
    "kernelspec": {
      "display_name": "Python 3",
      "language": "python",
      "name": "python3"
    },
    "language_info": {
      "name": "python",
      "version": "3.7.12",
      "mimetype": "text/x-python",
      "codemirror_mode": {
        "name": "ipython",
        "version": 3
      },
      "pygments_lexer": "ipython3",
      "nbconvert_exporter": "python",
      "file_extension": ".py"
    },
    "colab": {
      "provenance": []
    },
    "widgets": {
      "application/vnd.jupyter.widget-state+json": {
        "5f2835ecac9e42e084315d389d2026c7": {
          "model_module": "@jupyter-widgets/controls",
          "model_name": "HBoxModel",
          "model_module_version": "1.5.0",
          "state": {
            "_dom_classes": [],
            "_model_module": "@jupyter-widgets/controls",
            "_model_module_version": "1.5.0",
            "_model_name": "HBoxModel",
            "_view_count": null,
            "_view_module": "@jupyter-widgets/controls",
            "_view_module_version": "1.5.0",
            "_view_name": "HBoxView",
            "box_style": "",
            "children": [
              "IPY_MODEL_02259316887b49759a724e7ed8ffdfe4",
              "IPY_MODEL_ef6650d6f19249d1a544412d913f1675",
              "IPY_MODEL_f9f0f311a2a04102b4b39a5554f850c9"
            ],
            "layout": "IPY_MODEL_69316228758a4d14825bc659529da5e4"
          }
        },
        "02259316887b49759a724e7ed8ffdfe4": {
          "model_module": "@jupyter-widgets/controls",
          "model_name": "HTMLModel",
          "model_module_version": "1.5.0",
          "state": {
            "_dom_classes": [],
            "_model_module": "@jupyter-widgets/controls",
            "_model_module_version": "1.5.0",
            "_model_name": "HTMLModel",
            "_view_count": null,
            "_view_module": "@jupyter-widgets/controls",
            "_view_module_version": "1.5.0",
            "_view_name": "HTMLView",
            "description": "",
            "description_tooltip": null,
            "layout": "IPY_MODEL_6d730dc2c6134c56a4f017d7bbd9505f",
            "placeholder": "​",
            "style": "IPY_MODEL_625b3fcbfb8e4c37a9b7bc86b3efe696",
            "value": "100%"
          }
        },
        "ef6650d6f19249d1a544412d913f1675": {
          "model_module": "@jupyter-widgets/controls",
          "model_name": "FloatProgressModel",
          "model_module_version": "1.5.0",
          "state": {
            "_dom_classes": [],
            "_model_module": "@jupyter-widgets/controls",
            "_model_module_version": "1.5.0",
            "_model_name": "FloatProgressModel",
            "_view_count": null,
            "_view_module": "@jupyter-widgets/controls",
            "_view_module_version": "1.5.0",
            "_view_name": "ProgressView",
            "bar_style": "success",
            "description": "",
            "description_tooltip": null,
            "layout": "IPY_MODEL_4403267052df43a7b705a7ea3e6edd0a",
            "max": 5842,
            "min": 0,
            "orientation": "horizontal",
            "style": "IPY_MODEL_0a672eba7ef04e6aa58c68ef156e0955",
            "value": 5842
          }
        },
        "f9f0f311a2a04102b4b39a5554f850c9": {
          "model_module": "@jupyter-widgets/controls",
          "model_name": "HTMLModel",
          "model_module_version": "1.5.0",
          "state": {
            "_dom_classes": [],
            "_model_module": "@jupyter-widgets/controls",
            "_model_module_version": "1.5.0",
            "_model_name": "HTMLModel",
            "_view_count": null,
            "_view_module": "@jupyter-widgets/controls",
            "_view_module_version": "1.5.0",
            "_view_name": "HTMLView",
            "description": "",
            "description_tooltip": null,
            "layout": "IPY_MODEL_d7d90c5347e34d4a8dac031992503420",
            "placeholder": "​",
            "style": "IPY_MODEL_6c53ae17c46f4b45848cf1cea1c85d9e",
            "value": " 5842/5842 [00:00&lt;00:00, 9094.85it/s]"
          }
        },
        "69316228758a4d14825bc659529da5e4": {
          "model_module": "@jupyter-widgets/base",
          "model_name": "LayoutModel",
          "model_module_version": "1.2.0",
          "state": {
            "_model_module": "@jupyter-widgets/base",
            "_model_module_version": "1.2.0",
            "_model_name": "LayoutModel",
            "_view_count": null,
            "_view_module": "@jupyter-widgets/base",
            "_view_module_version": "1.2.0",
            "_view_name": "LayoutView",
            "align_content": null,
            "align_items": null,
            "align_self": null,
            "border": null,
            "bottom": null,
            "display": null,
            "flex": null,
            "flex_flow": null,
            "grid_area": null,
            "grid_auto_columns": null,
            "grid_auto_flow": null,
            "grid_auto_rows": null,
            "grid_column": null,
            "grid_gap": null,
            "grid_row": null,
            "grid_template_areas": null,
            "grid_template_columns": null,
            "grid_template_rows": null,
            "height": null,
            "justify_content": null,
            "justify_items": null,
            "left": null,
            "margin": null,
            "max_height": null,
            "max_width": null,
            "min_height": null,
            "min_width": null,
            "object_fit": null,
            "object_position": null,
            "order": null,
            "overflow": null,
            "overflow_x": null,
            "overflow_y": null,
            "padding": null,
            "right": null,
            "top": null,
            "visibility": null,
            "width": null
          }
        },
        "6d730dc2c6134c56a4f017d7bbd9505f": {
          "model_module": "@jupyter-widgets/base",
          "model_name": "LayoutModel",
          "model_module_version": "1.2.0",
          "state": {
            "_model_module": "@jupyter-widgets/base",
            "_model_module_version": "1.2.0",
            "_model_name": "LayoutModel",
            "_view_count": null,
            "_view_module": "@jupyter-widgets/base",
            "_view_module_version": "1.2.0",
            "_view_name": "LayoutView",
            "align_content": null,
            "align_items": null,
            "align_self": null,
            "border": null,
            "bottom": null,
            "display": null,
            "flex": null,
            "flex_flow": null,
            "grid_area": null,
            "grid_auto_columns": null,
            "grid_auto_flow": null,
            "grid_auto_rows": null,
            "grid_column": null,
            "grid_gap": null,
            "grid_row": null,
            "grid_template_areas": null,
            "grid_template_columns": null,
            "grid_template_rows": null,
            "height": null,
            "justify_content": null,
            "justify_items": null,
            "left": null,
            "margin": null,
            "max_height": null,
            "max_width": null,
            "min_height": null,
            "min_width": null,
            "object_fit": null,
            "object_position": null,
            "order": null,
            "overflow": null,
            "overflow_x": null,
            "overflow_y": null,
            "padding": null,
            "right": null,
            "top": null,
            "visibility": null,
            "width": null
          }
        },
        "625b3fcbfb8e4c37a9b7bc86b3efe696": {
          "model_module": "@jupyter-widgets/controls",
          "model_name": "DescriptionStyleModel",
          "model_module_version": "1.5.0",
          "state": {
            "_model_module": "@jupyter-widgets/controls",
            "_model_module_version": "1.5.0",
            "_model_name": "DescriptionStyleModel",
            "_view_count": null,
            "_view_module": "@jupyter-widgets/base",
            "_view_module_version": "1.2.0",
            "_view_name": "StyleView",
            "description_width": ""
          }
        },
        "4403267052df43a7b705a7ea3e6edd0a": {
          "model_module": "@jupyter-widgets/base",
          "model_name": "LayoutModel",
          "model_module_version": "1.2.0",
          "state": {
            "_model_module": "@jupyter-widgets/base",
            "_model_module_version": "1.2.0",
            "_model_name": "LayoutModel",
            "_view_count": null,
            "_view_module": "@jupyter-widgets/base",
            "_view_module_version": "1.2.0",
            "_view_name": "LayoutView",
            "align_content": null,
            "align_items": null,
            "align_self": null,
            "border": null,
            "bottom": null,
            "display": null,
            "flex": null,
            "flex_flow": null,
            "grid_area": null,
            "grid_auto_columns": null,
            "grid_auto_flow": null,
            "grid_auto_rows": null,
            "grid_column": null,
            "grid_gap": null,
            "grid_row": null,
            "grid_template_areas": null,
            "grid_template_columns": null,
            "grid_template_rows": null,
            "height": null,
            "justify_content": null,
            "justify_items": null,
            "left": null,
            "margin": null,
            "max_height": null,
            "max_width": null,
            "min_height": null,
            "min_width": null,
            "object_fit": null,
            "object_position": null,
            "order": null,
            "overflow": null,
            "overflow_x": null,
            "overflow_y": null,
            "padding": null,
            "right": null,
            "top": null,
            "visibility": null,
            "width": null
          }
        },
        "0a672eba7ef04e6aa58c68ef156e0955": {
          "model_module": "@jupyter-widgets/controls",
          "model_name": "ProgressStyleModel",
          "model_module_version": "1.5.0",
          "state": {
            "_model_module": "@jupyter-widgets/controls",
            "_model_module_version": "1.5.0",
            "_model_name": "ProgressStyleModel",
            "_view_count": null,
            "_view_module": "@jupyter-widgets/base",
            "_view_module_version": "1.2.0",
            "_view_name": "StyleView",
            "bar_color": null,
            "description_width": ""
          }
        },
        "d7d90c5347e34d4a8dac031992503420": {
          "model_module": "@jupyter-widgets/base",
          "model_name": "LayoutModel",
          "model_module_version": "1.2.0",
          "state": {
            "_model_module": "@jupyter-widgets/base",
            "_model_module_version": "1.2.0",
            "_model_name": "LayoutModel",
            "_view_count": null,
            "_view_module": "@jupyter-widgets/base",
            "_view_module_version": "1.2.0",
            "_view_name": "LayoutView",
            "align_content": null,
            "align_items": null,
            "align_self": null,
            "border": null,
            "bottom": null,
            "display": null,
            "flex": null,
            "flex_flow": null,
            "grid_area": null,
            "grid_auto_columns": null,
            "grid_auto_flow": null,
            "grid_auto_rows": null,
            "grid_column": null,
            "grid_gap": null,
            "grid_row": null,
            "grid_template_areas": null,
            "grid_template_columns": null,
            "grid_template_rows": null,
            "height": null,
            "justify_content": null,
            "justify_items": null,
            "left": null,
            "margin": null,
            "max_height": null,
            "max_width": null,
            "min_height": null,
            "min_width": null,
            "object_fit": null,
            "object_position": null,
            "order": null,
            "overflow": null,
            "overflow_x": null,
            "overflow_y": null,
            "padding": null,
            "right": null,
            "top": null,
            "visibility": null,
            "width": null
          }
        },
        "6c53ae17c46f4b45848cf1cea1c85d9e": {
          "model_module": "@jupyter-widgets/controls",
          "model_name": "DescriptionStyleModel",
          "model_module_version": "1.5.0",
          "state": {
            "_model_module": "@jupyter-widgets/controls",
            "_model_module_version": "1.5.0",
            "_model_name": "DescriptionStyleModel",
            "_view_count": null,
            "_view_module": "@jupyter-widgets/base",
            "_view_module_version": "1.2.0",
            "_view_name": "StyleView",
            "description_width": ""
          }
        },
        "57beef33a2904dd9aec05df37986ce18": {
          "model_module": "@jupyter-widgets/controls",
          "model_name": "HBoxModel",
          "model_module_version": "1.5.0",
          "state": {
            "_dom_classes": [],
            "_model_module": "@jupyter-widgets/controls",
            "_model_module_version": "1.5.0",
            "_model_name": "HBoxModel",
            "_view_count": null,
            "_view_module": "@jupyter-widgets/controls",
            "_view_module_version": "1.5.0",
            "_view_name": "HBoxView",
            "box_style": "",
            "children": [
              "IPY_MODEL_edc0453d38c84a33aece60708d5ffdc2",
              "IPY_MODEL_827032e568a742a39f6d9ac1b6af656a",
              "IPY_MODEL_daac5996d9e045669017069d165ae82f"
            ],
            "layout": "IPY_MODEL_286d62b4e6b94ac89f23333346a7ceb6"
          }
        },
        "edc0453d38c84a33aece60708d5ffdc2": {
          "model_module": "@jupyter-widgets/controls",
          "model_name": "HTMLModel",
          "model_module_version": "1.5.0",
          "state": {
            "_dom_classes": [],
            "_model_module": "@jupyter-widgets/controls",
            "_model_module_version": "1.5.0",
            "_model_name": "HTMLModel",
            "_view_count": null,
            "_view_module": "@jupyter-widgets/controls",
            "_view_module_version": "1.5.0",
            "_view_name": "HTMLView",
            "description": "",
            "description_tooltip": null,
            "layout": "IPY_MODEL_f99252825cc24f9ead37e91604db67f6",
            "placeholder": "​",
            "style": "IPY_MODEL_1ba669b6ea5342ff987965f8c105c383",
            "value": "100%"
          }
        },
        "827032e568a742a39f6d9ac1b6af656a": {
          "model_module": "@jupyter-widgets/controls",
          "model_name": "FloatProgressModel",
          "model_module_version": "1.5.0",
          "state": {
            "_dom_classes": [],
            "_model_module": "@jupyter-widgets/controls",
            "_model_module_version": "1.5.0",
            "_model_name": "FloatProgressModel",
            "_view_count": null,
            "_view_module": "@jupyter-widgets/controls",
            "_view_module_version": "1.5.0",
            "_view_name": "ProgressView",
            "bar_style": "success",
            "description": "",
            "description_tooltip": null,
            "layout": "IPY_MODEL_375aeafeeb2b44a9ab931410cf5cf8b5",
            "max": 10855,
            "min": 0,
            "orientation": "horizontal",
            "style": "IPY_MODEL_04c5d11d98884551b634e062497b1feb",
            "value": 10855
          }
        },
        "daac5996d9e045669017069d165ae82f": {
          "model_module": "@jupyter-widgets/controls",
          "model_name": "HTMLModel",
          "model_module_version": "1.5.0",
          "state": {
            "_dom_classes": [],
            "_model_module": "@jupyter-widgets/controls",
            "_model_module_version": "1.5.0",
            "_model_name": "HTMLModel",
            "_view_count": null,
            "_view_module": "@jupyter-widgets/controls",
            "_view_module_version": "1.5.0",
            "_view_name": "HTMLView",
            "description": "",
            "description_tooltip": null,
            "layout": "IPY_MODEL_daba1362736e49299d66eb9764a1debb",
            "placeholder": "​",
            "style": "IPY_MODEL_40df6439dbcc4c04b127fd2f5bc9474b",
            "value": " 10855/10855 [00:00&lt;00:00, 85257.32it/s]"
          }
        },
        "286d62b4e6b94ac89f23333346a7ceb6": {
          "model_module": "@jupyter-widgets/base",
          "model_name": "LayoutModel",
          "model_module_version": "1.2.0",
          "state": {
            "_model_module": "@jupyter-widgets/base",
            "_model_module_version": "1.2.0",
            "_model_name": "LayoutModel",
            "_view_count": null,
            "_view_module": "@jupyter-widgets/base",
            "_view_module_version": "1.2.0",
            "_view_name": "LayoutView",
            "align_content": null,
            "align_items": null,
            "align_self": null,
            "border": null,
            "bottom": null,
            "display": null,
            "flex": null,
            "flex_flow": null,
            "grid_area": null,
            "grid_auto_columns": null,
            "grid_auto_flow": null,
            "grid_auto_rows": null,
            "grid_column": null,
            "grid_gap": null,
            "grid_row": null,
            "grid_template_areas": null,
            "grid_template_columns": null,
            "grid_template_rows": null,
            "height": null,
            "justify_content": null,
            "justify_items": null,
            "left": null,
            "margin": null,
            "max_height": null,
            "max_width": null,
            "min_height": null,
            "min_width": null,
            "object_fit": null,
            "object_position": null,
            "order": null,
            "overflow": null,
            "overflow_x": null,
            "overflow_y": null,
            "padding": null,
            "right": null,
            "top": null,
            "visibility": null,
            "width": null
          }
        },
        "f99252825cc24f9ead37e91604db67f6": {
          "model_module": "@jupyter-widgets/base",
          "model_name": "LayoutModel",
          "model_module_version": "1.2.0",
          "state": {
            "_model_module": "@jupyter-widgets/base",
            "_model_module_version": "1.2.0",
            "_model_name": "LayoutModel",
            "_view_count": null,
            "_view_module": "@jupyter-widgets/base",
            "_view_module_version": "1.2.0",
            "_view_name": "LayoutView",
            "align_content": null,
            "align_items": null,
            "align_self": null,
            "border": null,
            "bottom": null,
            "display": null,
            "flex": null,
            "flex_flow": null,
            "grid_area": null,
            "grid_auto_columns": null,
            "grid_auto_flow": null,
            "grid_auto_rows": null,
            "grid_column": null,
            "grid_gap": null,
            "grid_row": null,
            "grid_template_areas": null,
            "grid_template_columns": null,
            "grid_template_rows": null,
            "height": null,
            "justify_content": null,
            "justify_items": null,
            "left": null,
            "margin": null,
            "max_height": null,
            "max_width": null,
            "min_height": null,
            "min_width": null,
            "object_fit": null,
            "object_position": null,
            "order": null,
            "overflow": null,
            "overflow_x": null,
            "overflow_y": null,
            "padding": null,
            "right": null,
            "top": null,
            "visibility": null,
            "width": null
          }
        },
        "1ba669b6ea5342ff987965f8c105c383": {
          "model_module": "@jupyter-widgets/controls",
          "model_name": "DescriptionStyleModel",
          "model_module_version": "1.5.0",
          "state": {
            "_model_module": "@jupyter-widgets/controls",
            "_model_module_version": "1.5.0",
            "_model_name": "DescriptionStyleModel",
            "_view_count": null,
            "_view_module": "@jupyter-widgets/base",
            "_view_module_version": "1.2.0",
            "_view_name": "StyleView",
            "description_width": ""
          }
        },
        "375aeafeeb2b44a9ab931410cf5cf8b5": {
          "model_module": "@jupyter-widgets/base",
          "model_name": "LayoutModel",
          "model_module_version": "1.2.0",
          "state": {
            "_model_module": "@jupyter-widgets/base",
            "_model_module_version": "1.2.0",
            "_model_name": "LayoutModel",
            "_view_count": null,
            "_view_module": "@jupyter-widgets/base",
            "_view_module_version": "1.2.0",
            "_view_name": "LayoutView",
            "align_content": null,
            "align_items": null,
            "align_self": null,
            "border": null,
            "bottom": null,
            "display": null,
            "flex": null,
            "flex_flow": null,
            "grid_area": null,
            "grid_auto_columns": null,
            "grid_auto_flow": null,
            "grid_auto_rows": null,
            "grid_column": null,
            "grid_gap": null,
            "grid_row": null,
            "grid_template_areas": null,
            "grid_template_columns": null,
            "grid_template_rows": null,
            "height": null,
            "justify_content": null,
            "justify_items": null,
            "left": null,
            "margin": null,
            "max_height": null,
            "max_width": null,
            "min_height": null,
            "min_width": null,
            "object_fit": null,
            "object_position": null,
            "order": null,
            "overflow": null,
            "overflow_x": null,
            "overflow_y": null,
            "padding": null,
            "right": null,
            "top": null,
            "visibility": null,
            "width": null
          }
        },
        "04c5d11d98884551b634e062497b1feb": {
          "model_module": "@jupyter-widgets/controls",
          "model_name": "ProgressStyleModel",
          "model_module_version": "1.5.0",
          "state": {
            "_model_module": "@jupyter-widgets/controls",
            "_model_module_version": "1.5.0",
            "_model_name": "ProgressStyleModel",
            "_view_count": null,
            "_view_module": "@jupyter-widgets/base",
            "_view_module_version": "1.2.0",
            "_view_name": "StyleView",
            "bar_color": null,
            "description_width": ""
          }
        },
        "daba1362736e49299d66eb9764a1debb": {
          "model_module": "@jupyter-widgets/base",
          "model_name": "LayoutModel",
          "model_module_version": "1.2.0",
          "state": {
            "_model_module": "@jupyter-widgets/base",
            "_model_module_version": "1.2.0",
            "_model_name": "LayoutModel",
            "_view_count": null,
            "_view_module": "@jupyter-widgets/base",
            "_view_module_version": "1.2.0",
            "_view_name": "LayoutView",
            "align_content": null,
            "align_items": null,
            "align_self": null,
            "border": null,
            "bottom": null,
            "display": null,
            "flex": null,
            "flex_flow": null,
            "grid_area": null,
            "grid_auto_columns": null,
            "grid_auto_flow": null,
            "grid_auto_rows": null,
            "grid_column": null,
            "grid_gap": null,
            "grid_row": null,
            "grid_template_areas": null,
            "grid_template_columns": null,
            "grid_template_rows": null,
            "height": null,
            "justify_content": null,
            "justify_items": null,
            "left": null,
            "margin": null,
            "max_height": null,
            "max_width": null,
            "min_height": null,
            "min_width": null,
            "object_fit": null,
            "object_position": null,
            "order": null,
            "overflow": null,
            "overflow_x": null,
            "overflow_y": null,
            "padding": null,
            "right": null,
            "top": null,
            "visibility": null,
            "width": null
          }
        },
        "40df6439dbcc4c04b127fd2f5bc9474b": {
          "model_module": "@jupyter-widgets/controls",
          "model_name": "DescriptionStyleModel",
          "model_module_version": "1.5.0",
          "state": {
            "_model_module": "@jupyter-widgets/controls",
            "_model_module_version": "1.5.0",
            "_model_name": "DescriptionStyleModel",
            "_view_count": null,
            "_view_module": "@jupyter-widgets/base",
            "_view_module_version": "1.2.0",
            "_view_name": "StyleView",
            "description_width": ""
          }
        },
        "953d36ded33b4d889e73c7b7a6a8b2d3": {
          "model_module": "@jupyter-widgets/controls",
          "model_name": "HBoxModel",
          "model_module_version": "1.5.0",
          "state": {
            "_dom_classes": [],
            "_model_module": "@jupyter-widgets/controls",
            "_model_module_version": "1.5.0",
            "_model_name": "HBoxModel",
            "_view_count": null,
            "_view_module": "@jupyter-widgets/controls",
            "_view_module_version": "1.5.0",
            "_view_name": "HBoxView",
            "box_style": "",
            "children": [
              "IPY_MODEL_17dee945050441e186d8073e8c974a7a",
              "IPY_MODEL_2d662c252612484680ce9798411cc0dc",
              "IPY_MODEL_31c6225cfc294206b58f38273eaaa255"
            ],
            "layout": "IPY_MODEL_06a13620eb9d4688b8ee4a8cebf1c159"
          }
        },
        "17dee945050441e186d8073e8c974a7a": {
          "model_module": "@jupyter-widgets/controls",
          "model_name": "HTMLModel",
          "model_module_version": "1.5.0",
          "state": {
            "_dom_classes": [],
            "_model_module": "@jupyter-widgets/controls",
            "_model_module_version": "1.5.0",
            "_model_name": "HTMLModel",
            "_view_count": null,
            "_view_module": "@jupyter-widgets/controls",
            "_view_module_version": "1.5.0",
            "_view_name": "HTMLView",
            "description": "",
            "description_tooltip": null,
            "layout": "IPY_MODEL_372a1d92e4a04c5cabeb5533e121f1b7",
            "placeholder": "​",
            "style": "IPY_MODEL_07bf3c6708894cb2bd8dfe2108c84224",
            "value": "100%"
          }
        },
        "2d662c252612484680ce9798411cc0dc": {
          "model_module": "@jupyter-widgets/controls",
          "model_name": "FloatProgressModel",
          "model_module_version": "1.5.0",
          "state": {
            "_dom_classes": [],
            "_model_module": "@jupyter-widgets/controls",
            "_model_module_version": "1.5.0",
            "_model_name": "FloatProgressModel",
            "_view_count": null,
            "_view_module": "@jupyter-widgets/controls",
            "_view_module_version": "1.5.0",
            "_view_name": "ProgressView",
            "bar_style": "success",
            "description": "",
            "description_tooltip": null,
            "layout": "IPY_MODEL_aecd6dd20e50477bb5616cbd065348d3",
            "max": 10855,
            "min": 0,
            "orientation": "horizontal",
            "style": "IPY_MODEL_02bc2c0f8c7a42ebbc4d0d7508066458",
            "value": 10855
          }
        },
        "31c6225cfc294206b58f38273eaaa255": {
          "model_module": "@jupyter-widgets/controls",
          "model_name": "HTMLModel",
          "model_module_version": "1.5.0",
          "state": {
            "_dom_classes": [],
            "_model_module": "@jupyter-widgets/controls",
            "_model_module_version": "1.5.0",
            "_model_name": "HTMLModel",
            "_view_count": null,
            "_view_module": "@jupyter-widgets/controls",
            "_view_module_version": "1.5.0",
            "_view_name": "HTMLView",
            "description": "",
            "description_tooltip": null,
            "layout": "IPY_MODEL_4648d57b81454ca199eff1eb29f39e6c",
            "placeholder": "​",
            "style": "IPY_MODEL_41f05d3f83f04de1870617d27c76f454",
            "value": " 10855/10855 [00:00&lt;00:00, 14558.21it/s]"
          }
        },
        "06a13620eb9d4688b8ee4a8cebf1c159": {
          "model_module": "@jupyter-widgets/base",
          "model_name": "LayoutModel",
          "model_module_version": "1.2.0",
          "state": {
            "_model_module": "@jupyter-widgets/base",
            "_model_module_version": "1.2.0",
            "_model_name": "LayoutModel",
            "_view_count": null,
            "_view_module": "@jupyter-widgets/base",
            "_view_module_version": "1.2.0",
            "_view_name": "LayoutView",
            "align_content": null,
            "align_items": null,
            "align_self": null,
            "border": null,
            "bottom": null,
            "display": null,
            "flex": null,
            "flex_flow": null,
            "grid_area": null,
            "grid_auto_columns": null,
            "grid_auto_flow": null,
            "grid_auto_rows": null,
            "grid_column": null,
            "grid_gap": null,
            "grid_row": null,
            "grid_template_areas": null,
            "grid_template_columns": null,
            "grid_template_rows": null,
            "height": null,
            "justify_content": null,
            "justify_items": null,
            "left": null,
            "margin": null,
            "max_height": null,
            "max_width": null,
            "min_height": null,
            "min_width": null,
            "object_fit": null,
            "object_position": null,
            "order": null,
            "overflow": null,
            "overflow_x": null,
            "overflow_y": null,
            "padding": null,
            "right": null,
            "top": null,
            "visibility": null,
            "width": null
          }
        },
        "372a1d92e4a04c5cabeb5533e121f1b7": {
          "model_module": "@jupyter-widgets/base",
          "model_name": "LayoutModel",
          "model_module_version": "1.2.0",
          "state": {
            "_model_module": "@jupyter-widgets/base",
            "_model_module_version": "1.2.0",
            "_model_name": "LayoutModel",
            "_view_count": null,
            "_view_module": "@jupyter-widgets/base",
            "_view_module_version": "1.2.0",
            "_view_name": "LayoutView",
            "align_content": null,
            "align_items": null,
            "align_self": null,
            "border": null,
            "bottom": null,
            "display": null,
            "flex": null,
            "flex_flow": null,
            "grid_area": null,
            "grid_auto_columns": null,
            "grid_auto_flow": null,
            "grid_auto_rows": null,
            "grid_column": null,
            "grid_gap": null,
            "grid_row": null,
            "grid_template_areas": null,
            "grid_template_columns": null,
            "grid_template_rows": null,
            "height": null,
            "justify_content": null,
            "justify_items": null,
            "left": null,
            "margin": null,
            "max_height": null,
            "max_width": null,
            "min_height": null,
            "min_width": null,
            "object_fit": null,
            "object_position": null,
            "order": null,
            "overflow": null,
            "overflow_x": null,
            "overflow_y": null,
            "padding": null,
            "right": null,
            "top": null,
            "visibility": null,
            "width": null
          }
        },
        "07bf3c6708894cb2bd8dfe2108c84224": {
          "model_module": "@jupyter-widgets/controls",
          "model_name": "DescriptionStyleModel",
          "model_module_version": "1.5.0",
          "state": {
            "_model_module": "@jupyter-widgets/controls",
            "_model_module_version": "1.5.0",
            "_model_name": "DescriptionStyleModel",
            "_view_count": null,
            "_view_module": "@jupyter-widgets/base",
            "_view_module_version": "1.2.0",
            "_view_name": "StyleView",
            "description_width": ""
          }
        },
        "aecd6dd20e50477bb5616cbd065348d3": {
          "model_module": "@jupyter-widgets/base",
          "model_name": "LayoutModel",
          "model_module_version": "1.2.0",
          "state": {
            "_model_module": "@jupyter-widgets/base",
            "_model_module_version": "1.2.0",
            "_model_name": "LayoutModel",
            "_view_count": null,
            "_view_module": "@jupyter-widgets/base",
            "_view_module_version": "1.2.0",
            "_view_name": "LayoutView",
            "align_content": null,
            "align_items": null,
            "align_self": null,
            "border": null,
            "bottom": null,
            "display": null,
            "flex": null,
            "flex_flow": null,
            "grid_area": null,
            "grid_auto_columns": null,
            "grid_auto_flow": null,
            "grid_auto_rows": null,
            "grid_column": null,
            "grid_gap": null,
            "grid_row": null,
            "grid_template_areas": null,
            "grid_template_columns": null,
            "grid_template_rows": null,
            "height": null,
            "justify_content": null,
            "justify_items": null,
            "left": null,
            "margin": null,
            "max_height": null,
            "max_width": null,
            "min_height": null,
            "min_width": null,
            "object_fit": null,
            "object_position": null,
            "order": null,
            "overflow": null,
            "overflow_x": null,
            "overflow_y": null,
            "padding": null,
            "right": null,
            "top": null,
            "visibility": null,
            "width": null
          }
        },
        "02bc2c0f8c7a42ebbc4d0d7508066458": {
          "model_module": "@jupyter-widgets/controls",
          "model_name": "ProgressStyleModel",
          "model_module_version": "1.5.0",
          "state": {
            "_model_module": "@jupyter-widgets/controls",
            "_model_module_version": "1.5.0",
            "_model_name": "ProgressStyleModel",
            "_view_count": null,
            "_view_module": "@jupyter-widgets/base",
            "_view_module_version": "1.2.0",
            "_view_name": "StyleView",
            "bar_color": null,
            "description_width": ""
          }
        },
        "4648d57b81454ca199eff1eb29f39e6c": {
          "model_module": "@jupyter-widgets/base",
          "model_name": "LayoutModel",
          "model_module_version": "1.2.0",
          "state": {
            "_model_module": "@jupyter-widgets/base",
            "_model_module_version": "1.2.0",
            "_model_name": "LayoutModel",
            "_view_count": null,
            "_view_module": "@jupyter-widgets/base",
            "_view_module_version": "1.2.0",
            "_view_name": "LayoutView",
            "align_content": null,
            "align_items": null,
            "align_self": null,
            "border": null,
            "bottom": null,
            "display": null,
            "flex": null,
            "flex_flow": null,
            "grid_area": null,
            "grid_auto_columns": null,
            "grid_auto_flow": null,
            "grid_auto_rows": null,
            "grid_column": null,
            "grid_gap": null,
            "grid_row": null,
            "grid_template_areas": null,
            "grid_template_columns": null,
            "grid_template_rows": null,
            "height": null,
            "justify_content": null,
            "justify_items": null,
            "left": null,
            "margin": null,
            "max_height": null,
            "max_width": null,
            "min_height": null,
            "min_width": null,
            "object_fit": null,
            "object_position": null,
            "order": null,
            "overflow": null,
            "overflow_x": null,
            "overflow_y": null,
            "padding": null,
            "right": null,
            "top": null,
            "visibility": null,
            "width": null
          }
        },
        "41f05d3f83f04de1870617d27c76f454": {
          "model_module": "@jupyter-widgets/controls",
          "model_name": "DescriptionStyleModel",
          "model_module_version": "1.5.0",
          "state": {
            "_model_module": "@jupyter-widgets/controls",
            "_model_module_version": "1.5.0",
            "_model_name": "DescriptionStyleModel",
            "_view_count": null,
            "_view_module": "@jupyter-widgets/base",
            "_view_module_version": "1.2.0",
            "_view_name": "StyleView",
            "description_width": ""
          }
        }
      }
    },
    "accelerator": "GPU",
    "gpuClass": "standard"
  },
  "nbformat_minor": 0,
  "nbformat": 4,
  "cells": [
    {
      "cell_type": "markdown",
      "source": [
        "Memoona Shah\n",
        "\n",
        "0001056334"
      ],
      "metadata": {
        "id": "9h46TAzKK4m4"
      }
    },
    {
      "cell_type": "markdown",
      "source": [
        "Deep learning Project Work\n",
        "\n",
        "#Stock Sentiment Analysis using News Headlines with deep learning\n",
        "\n",
        "The aim of this project is to perform sentiment analysis on stock market news to classify them into sentiment categories. News headlines can have a significant impact on stock prices as they can influence the sentiment and expectations of investors, which in turn can drive demand for, or affect the perceived value of, a particular stock. In this project, deep learning models will be used to analyze and classify the sentiment of financial news articles headlines. The selected data will be pre-processed, and a word embedding model such as word2vec or GloVe will be used to convert the text into numerical representations. Then, the data will be fed into deep learning models such as Recurrent Neural Network (RNN) to perform sentiment analysis and predict stock price movements.\n",
        "\n",
        "\n"
      ],
      "metadata": {
        "id": "SuzxM8M7MwJm"
      }
    },
    {
      "cell_type": "markdown",
      "source": [
        "The main task is to detect the tone of the financial text i.e, positive,negative or neutral using Deep Learning approaches."
      ],
      "metadata": {
        "id": "YeH9207IMwJm"
      }
    },
    {
      "cell_type": "markdown",
      "source": [
        "# Dataset description"
      ],
      "metadata": {
        "id": "3Rl40NaJMwJm"
      }
    },
    {
      "cell_type": "markdown",
      "source": [
        "The following data is intended for advancing financial sentiment analysis research. It's two datasets (FiQA, Financial PhraseBank) combined into one easy-to-use CSV file. It provides financial sentences with sentiment labels.\n",
        "\n"
      ],
      "metadata": {
        "id": "W3gcyfV-MwJm"
      }
    },
    {
      "cell_type": "markdown",
      "source": [
        "# Methodology"
      ],
      "metadata": {
        "id": "q05oRuRhMwJn"
      }
    },
    {
      "cell_type": "markdown",
      "source": [
        "The methodology of the project is going to includes the following\n",
        "\n",
        "              1. Data preprocessing:\n",
        "\n",
        "Data preprocessing includes the following tasks:\n",
        "- Lower Casing\n",
        "- Special characters removal\n",
        "- Removing punctuations\n",
        "- Removing stopwords\n",
        "- tokenization\n",
        "- vectorization\n",
        "-  train test splitting of data for model training.\n",
        "\n",
        "              2. Models:\n",
        "\n",
        "the models that are going to be used to train the data are:\n",
        " - Basic LSTM\n",
        " - Basic GRU\n",
        " - Glove + LSTM\n",
        " - Glove + GRU\n",
        " "
      ],
      "metadata": {
        "id": "5w737gzSMwJn"
      }
    },
    {
      "cell_type": "markdown",
      "source": [
        "## Data preprocessing"
      ],
      "metadata": {
        "id": "jm9bF5TPMwJn"
      }
    },
    {
      "cell_type": "code",
      "source": [
        "import locale\n",
        "def getpreferredencoding(do_setlocale = True):\n",
        "    return \"UTF-8\"\n",
        "locale.getpreferredencoding = getpreferredencoding"
      ],
      "metadata": {
        "id": "kue8ozuh6J_V"
      },
      "execution_count": 6,
      "outputs": []
    },
    {
      "cell_type": "code",
      "source": [
        "pip install text-hammer"
      ],
      "metadata": {
        "colab": {
          "base_uri": "https://localhost:8080/"
        },
        "id": "3QgDBYqQy4yQ",
        "outputId": "35fbda8d-9ffb-4cc4-f11c-715c9e722ed0"
      },
      "execution_count": 7,
      "outputs": [
        {
          "output_type": "stream",
          "name": "stdout",
          "text": [
            "Looking in indexes: https://pypi.org/simple, https://us-python.pkg.dev/colab-wheels/public/simple/\n",
            "Requirement already satisfied: text-hammer in /usr/local/lib/python3.8/dist-packages (0.1.5)\n",
            "Requirement already satisfied: pandas in /usr/local/lib/python3.8/dist-packages (from text-hammer) (1.3.5)\n",
            "Requirement already satisfied: numpy in /usr/local/lib/python3.8/dist-packages (from text-hammer) (1.21.6)\n",
            "Requirement already satisfied: TextBlob in /usr/local/lib/python3.8/dist-packages (from text-hammer) (0.15.3)\n",
            "Requirement already satisfied: spacy in /usr/local/lib/python3.8/dist-packages (from text-hammer) (3.4.4)\n",
            "Requirement already satisfied: beautifulsoup4==4.9.1 in /usr/local/lib/python3.8/dist-packages (from text-hammer) (4.9.1)\n",
            "Requirement already satisfied: soupsieve>1.2 in /usr/local/lib/python3.8/dist-packages (from beautifulsoup4==4.9.1->text-hammer) (2.4)\n",
            "Requirement already satisfied: python-dateutil>=2.7.3 in /usr/local/lib/python3.8/dist-packages (from pandas->text-hammer) (2.8.2)\n",
            "Requirement already satisfied: pytz>=2017.3 in /usr/local/lib/python3.8/dist-packages (from pandas->text-hammer) (2022.7.1)\n",
            "Requirement already satisfied: pathy>=0.3.5 in /usr/local/lib/python3.8/dist-packages (from spacy->text-hammer) (0.10.1)\n",
            "Requirement already satisfied: pydantic!=1.8,!=1.8.1,<1.11.0,>=1.7.4 in /usr/local/lib/python3.8/dist-packages (from spacy->text-hammer) (1.10.4)\n",
            "Requirement already satisfied: setuptools in /usr/local/lib/python3.8/dist-packages (from spacy->text-hammer) (57.4.0)\n",
            "Requirement already satisfied: tqdm<5.0.0,>=4.38.0 in /usr/local/lib/python3.8/dist-packages (from spacy->text-hammer) (4.64.1)\n",
            "Requirement already satisfied: spacy-legacy<3.1.0,>=3.0.10 in /usr/local/lib/python3.8/dist-packages (from spacy->text-hammer) (3.0.12)\n",
            "Requirement already satisfied: thinc<8.2.0,>=8.1.0 in /usr/local/lib/python3.8/dist-packages (from spacy->text-hammer) (8.1.7)\n",
            "Requirement already satisfied: typer<0.8.0,>=0.3.0 in /usr/local/lib/python3.8/dist-packages (from spacy->text-hammer) (0.7.0)\n",
            "Requirement already satisfied: preshed<3.1.0,>=3.0.2 in /usr/local/lib/python3.8/dist-packages (from spacy->text-hammer) (3.0.8)\n",
            "Requirement already satisfied: requests<3.0.0,>=2.13.0 in /usr/local/lib/python3.8/dist-packages (from spacy->text-hammer) (2.25.1)\n",
            "Requirement already satisfied: langcodes<4.0.0,>=3.2.0 in /usr/local/lib/python3.8/dist-packages (from spacy->text-hammer) (3.3.0)\n",
            "Requirement already satisfied: wasabi<1.1.0,>=0.9.1 in /usr/local/lib/python3.8/dist-packages (from spacy->text-hammer) (0.10.1)\n",
            "Requirement already satisfied: catalogue<2.1.0,>=2.0.6 in /usr/local/lib/python3.8/dist-packages (from spacy->text-hammer) (2.0.8)\n",
            "Requirement already satisfied: packaging>=20.0 in /usr/local/lib/python3.8/dist-packages (from spacy->text-hammer) (23.0)\n",
            "Requirement already satisfied: murmurhash<1.1.0,>=0.28.0 in /usr/local/lib/python3.8/dist-packages (from spacy->text-hammer) (1.0.9)\n",
            "Requirement already satisfied: smart-open<7.0.0,>=5.2.1 in /usr/local/lib/python3.8/dist-packages (from spacy->text-hammer) (6.3.0)\n",
            "Requirement already satisfied: jinja2 in /usr/local/lib/python3.8/dist-packages (from spacy->text-hammer) (2.11.3)\n",
            "Requirement already satisfied: cymem<2.1.0,>=2.0.2 in /usr/local/lib/python3.8/dist-packages (from spacy->text-hammer) (2.0.7)\n",
            "Requirement already satisfied: spacy-loggers<2.0.0,>=1.0.0 in /usr/local/lib/python3.8/dist-packages (from spacy->text-hammer) (1.0.4)\n",
            "Requirement already satisfied: srsly<3.0.0,>=2.4.3 in /usr/local/lib/python3.8/dist-packages (from spacy->text-hammer) (2.4.5)\n",
            "Requirement already satisfied: nltk>=3.1 in /usr/local/lib/python3.8/dist-packages (from TextBlob->text-hammer) (3.7)\n",
            "Requirement already satisfied: click in /usr/local/lib/python3.8/dist-packages (from nltk>=3.1->TextBlob->text-hammer) (7.1.2)\n",
            "Requirement already satisfied: regex>=2021.8.3 in /usr/local/lib/python3.8/dist-packages (from nltk>=3.1->TextBlob->text-hammer) (2022.6.2)\n",
            "Requirement already satisfied: joblib in /usr/local/lib/python3.8/dist-packages (from nltk>=3.1->TextBlob->text-hammer) (1.2.0)\n",
            "Requirement already satisfied: typing-extensions>=4.2.0 in /usr/local/lib/python3.8/dist-packages (from pydantic!=1.8,!=1.8.1,<1.11.0,>=1.7.4->spacy->text-hammer) (4.5.0)\n",
            "Requirement already satisfied: six>=1.5 in /usr/local/lib/python3.8/dist-packages (from python-dateutil>=2.7.3->pandas->text-hammer) (1.15.0)\n",
            "Requirement already satisfied: idna<3,>=2.5 in /usr/local/lib/python3.8/dist-packages (from requests<3.0.0,>=2.13.0->spacy->text-hammer) (2.10)\n",
            "Requirement already satisfied: urllib3<1.27,>=1.21.1 in /usr/local/lib/python3.8/dist-packages (from requests<3.0.0,>=2.13.0->spacy->text-hammer) (1.24.3)\n",
            "Requirement already satisfied: chardet<5,>=3.0.2 in /usr/local/lib/python3.8/dist-packages (from requests<3.0.0,>=2.13.0->spacy->text-hammer) (4.0.0)\n",
            "Requirement already satisfied: certifi>=2017.4.17 in /usr/local/lib/python3.8/dist-packages (from requests<3.0.0,>=2.13.0->spacy->text-hammer) (2022.12.7)\n",
            "Requirement already satisfied: confection<1.0.0,>=0.0.1 in /usr/local/lib/python3.8/dist-packages (from thinc<8.2.0,>=8.1.0->spacy->text-hammer) (0.0.4)\n",
            "Requirement already satisfied: blis<0.8.0,>=0.7.8 in /usr/local/lib/python3.8/dist-packages (from thinc<8.2.0,>=8.1.0->spacy->text-hammer) (0.7.9)\n",
            "Requirement already satisfied: MarkupSafe>=0.23 in /usr/local/lib/python3.8/dist-packages (from jinja2->spacy->text-hammer) (2.0.1)\n"
          ]
        }
      ]
    },
    {
      "cell_type": "code",
      "source": [
        "pip install backports.csv"
      ],
      "metadata": {
        "colab": {
          "base_uri": "https://localhost:8080/"
        },
        "id": "xPXg3ZJX6l2_",
        "outputId": "8c4b07dd-415b-4407-825a-6f9bf9ad6f72"
      },
      "execution_count": 8,
      "outputs": [
        {
          "output_type": "stream",
          "name": "stdout",
          "text": [
            "Looking in indexes: https://pypi.org/simple, https://us-python.pkg.dev/colab-wheels/public/simple/\n",
            "Requirement already satisfied: backports.csv in /usr/local/lib/python3.8/dist-packages (1.0.7)\n"
          ]
        }
      ]
    },
    {
      "cell_type": "code",
      "source": [
        "import re\n",
        "import cv2\n",
        "import pandas as pd\n",
        "import numpy as np\n",
        "import os\n",
        "import nltk\n",
        "import matplotlib.pyplot as plt\n",
        "from matplotlib import cm\n",
        "import text_hammer as th\n",
        "import warnings\n",
        "warnings.filterwarnings('ignore')\n",
        "from tqdm import tqdm_notebook as tqdm"
      ],
      "metadata": {
        "execution": {
          "iopub.status.busy": "2022-10-26T05:57:04.117930Z",
          "iopub.execute_input": "2022-10-26T05:57:04.118344Z",
          "iopub.status.idle": "2022-10-26T05:57:22.273827Z",
          "shell.execute_reply.started": "2022-10-26T05:57:04.118260Z",
          "shell.execute_reply": "2022-10-26T05:57:22.272571Z"
        },
        "trusted": true,
        "id": "2PmHXPpVMwJn"
      },
      "execution_count": 24,
      "outputs": []
    },
    {
      "cell_type": "code",
      "source": [
        "df = pd.read_csv('data.csv')"
      ],
      "metadata": {
        "execution": {
          "iopub.status.busy": "2022-10-26T05:57:22.276111Z",
          "iopub.execute_input": "2022-10-26T05:57:22.276845Z",
          "iopub.status.idle": "2022-10-26T05:57:22.300400Z",
          "shell.execute_reply.started": "2022-10-26T05:57:22.276802Z",
          "shell.execute_reply": "2022-10-26T05:57:22.299427Z"
        },
        "trusted": true,
        "id": "TbNOyNNMMwJo"
      },
      "execution_count": 10,
      "outputs": []
    },
    {
      "cell_type": "code",
      "source": [
        "df.head(10)"
      ],
      "metadata": {
        "execution": {
          "iopub.status.busy": "2022-10-26T05:57:22.302310Z",
          "iopub.execute_input": "2022-10-26T05:57:22.302601Z",
          "iopub.status.idle": "2022-10-26T05:57:22.317981Z",
          "shell.execute_reply.started": "2022-10-26T05:57:22.302575Z",
          "shell.execute_reply": "2022-10-26T05:57:22.316591Z"
        },
        "trusted": true,
        "colab": {
          "base_uri": "https://localhost:8080/",
          "height": 362
        },
        "id": "RGg9RbzNMwJp",
        "outputId": "0cb65c9a-2d7f-4c75-9152-f47f907741c4"
      },
      "execution_count": 11,
      "outputs": [
        {
          "output_type": "execute_result",
          "data": {
            "text/plain": [
              "                                            Sentence Sentiment\n",
              "0  The GeoSolutions technology will leverage Bene...  positive\n",
              "1  $ESI on lows, down $1.50 to $2.50 BK a real po...  negative\n",
              "2  For the last quarter of 2010 , Componenta 's n...  positive\n",
              "3  According to the Finnish-Russian Chamber of Co...   neutral\n",
              "4  The Swedish buyout firm has sold its remaining...   neutral\n",
              "5    $SPY wouldn't be surprised to see a green close  positive\n",
              "6  Shell's $70 Billion BG Deal Meets Shareholder ...  negative\n",
              "7  SSH COMMUNICATIONS SECURITY CORP STOCK EXCHANG...  negative\n",
              "8  Kone 's net sales rose by some 14 % year-on-ye...  positive\n",
              "9  The Stockmann department store will have a tot...   neutral"
            ],
            "text/html": [
              "\n",
              "  <div id=\"df-188ad3b5-2a7d-419d-a845-f34d97424fc7\">\n",
              "    <div class=\"colab-df-container\">\n",
              "      <div>\n",
              "<style scoped>\n",
              "    .dataframe tbody tr th:only-of-type {\n",
              "        vertical-align: middle;\n",
              "    }\n",
              "\n",
              "    .dataframe tbody tr th {\n",
              "        vertical-align: top;\n",
              "    }\n",
              "\n",
              "    .dataframe thead th {\n",
              "        text-align: right;\n",
              "    }\n",
              "</style>\n",
              "<table border=\"1\" class=\"dataframe\">\n",
              "  <thead>\n",
              "    <tr style=\"text-align: right;\">\n",
              "      <th></th>\n",
              "      <th>Sentence</th>\n",
              "      <th>Sentiment</th>\n",
              "    </tr>\n",
              "  </thead>\n",
              "  <tbody>\n",
              "    <tr>\n",
              "      <th>0</th>\n",
              "      <td>The GeoSolutions technology will leverage Bene...</td>\n",
              "      <td>positive</td>\n",
              "    </tr>\n",
              "    <tr>\n",
              "      <th>1</th>\n",
              "      <td>$ESI on lows, down $1.50 to $2.50 BK a real po...</td>\n",
              "      <td>negative</td>\n",
              "    </tr>\n",
              "    <tr>\n",
              "      <th>2</th>\n",
              "      <td>For the last quarter of 2010 , Componenta 's n...</td>\n",
              "      <td>positive</td>\n",
              "    </tr>\n",
              "    <tr>\n",
              "      <th>3</th>\n",
              "      <td>According to the Finnish-Russian Chamber of Co...</td>\n",
              "      <td>neutral</td>\n",
              "    </tr>\n",
              "    <tr>\n",
              "      <th>4</th>\n",
              "      <td>The Swedish buyout firm has sold its remaining...</td>\n",
              "      <td>neutral</td>\n",
              "    </tr>\n",
              "    <tr>\n",
              "      <th>5</th>\n",
              "      <td>$SPY wouldn't be surprised to see a green close</td>\n",
              "      <td>positive</td>\n",
              "    </tr>\n",
              "    <tr>\n",
              "      <th>6</th>\n",
              "      <td>Shell's $70 Billion BG Deal Meets Shareholder ...</td>\n",
              "      <td>negative</td>\n",
              "    </tr>\n",
              "    <tr>\n",
              "      <th>7</th>\n",
              "      <td>SSH COMMUNICATIONS SECURITY CORP STOCK EXCHANG...</td>\n",
              "      <td>negative</td>\n",
              "    </tr>\n",
              "    <tr>\n",
              "      <th>8</th>\n",
              "      <td>Kone 's net sales rose by some 14 % year-on-ye...</td>\n",
              "      <td>positive</td>\n",
              "    </tr>\n",
              "    <tr>\n",
              "      <th>9</th>\n",
              "      <td>The Stockmann department store will have a tot...</td>\n",
              "      <td>neutral</td>\n",
              "    </tr>\n",
              "  </tbody>\n",
              "</table>\n",
              "</div>\n",
              "      <button class=\"colab-df-convert\" onclick=\"convertToInteractive('df-188ad3b5-2a7d-419d-a845-f34d97424fc7')\"\n",
              "              title=\"Convert this dataframe to an interactive table.\"\n",
              "              style=\"display:none;\">\n",
              "        \n",
              "  <svg xmlns=\"http://www.w3.org/2000/svg\" height=\"24px\"viewBox=\"0 0 24 24\"\n",
              "       width=\"24px\">\n",
              "    <path d=\"M0 0h24v24H0V0z\" fill=\"none\"/>\n",
              "    <path d=\"M18.56 5.44l.94 2.06.94-2.06 2.06-.94-2.06-.94-.94-2.06-.94 2.06-2.06.94zm-11 1L8.5 8.5l.94-2.06 2.06-.94-2.06-.94L8.5 2.5l-.94 2.06-2.06.94zm10 10l.94 2.06.94-2.06 2.06-.94-2.06-.94-.94-2.06-.94 2.06-2.06.94z\"/><path d=\"M17.41 7.96l-1.37-1.37c-.4-.4-.92-.59-1.43-.59-.52 0-1.04.2-1.43.59L10.3 9.45l-7.72 7.72c-.78.78-.78 2.05 0 2.83L4 21.41c.39.39.9.59 1.41.59.51 0 1.02-.2 1.41-.59l7.78-7.78 2.81-2.81c.8-.78.8-2.07 0-2.86zM5.41 20L4 18.59l7.72-7.72 1.47 1.35L5.41 20z\"/>\n",
              "  </svg>\n",
              "      </button>\n",
              "      \n",
              "  <style>\n",
              "    .colab-df-container {\n",
              "      display:flex;\n",
              "      flex-wrap:wrap;\n",
              "      gap: 12px;\n",
              "    }\n",
              "\n",
              "    .colab-df-convert {\n",
              "      background-color: #E8F0FE;\n",
              "      border: none;\n",
              "      border-radius: 50%;\n",
              "      cursor: pointer;\n",
              "      display: none;\n",
              "      fill: #1967D2;\n",
              "      height: 32px;\n",
              "      padding: 0 0 0 0;\n",
              "      width: 32px;\n",
              "    }\n",
              "\n",
              "    .colab-df-convert:hover {\n",
              "      background-color: #E2EBFA;\n",
              "      box-shadow: 0px 1px 2px rgba(60, 64, 67, 0.3), 0px 1px 3px 1px rgba(60, 64, 67, 0.15);\n",
              "      fill: #174EA6;\n",
              "    }\n",
              "\n",
              "    [theme=dark] .colab-df-convert {\n",
              "      background-color: #3B4455;\n",
              "      fill: #D2E3FC;\n",
              "    }\n",
              "\n",
              "    [theme=dark] .colab-df-convert:hover {\n",
              "      background-color: #434B5C;\n",
              "      box-shadow: 0px 1px 3px 1px rgba(0, 0, 0, 0.15);\n",
              "      filter: drop-shadow(0px 1px 2px rgba(0, 0, 0, 0.3));\n",
              "      fill: #FFFFFF;\n",
              "    }\n",
              "  </style>\n",
              "\n",
              "      <script>\n",
              "        const buttonEl =\n",
              "          document.querySelector('#df-188ad3b5-2a7d-419d-a845-f34d97424fc7 button.colab-df-convert');\n",
              "        buttonEl.style.display =\n",
              "          google.colab.kernel.accessAllowed ? 'block' : 'none';\n",
              "\n",
              "        async function convertToInteractive(key) {\n",
              "          const element = document.querySelector('#df-188ad3b5-2a7d-419d-a845-f34d97424fc7');\n",
              "          const dataTable =\n",
              "            await google.colab.kernel.invokeFunction('convertToInteractive',\n",
              "                                                     [key], {});\n",
              "          if (!dataTable) return;\n",
              "\n",
              "          const docLinkHtml = 'Like what you see? Visit the ' +\n",
              "            '<a target=\"_blank\" href=https://colab.research.google.com/notebooks/data_table.ipynb>data table notebook</a>'\n",
              "            + ' to learn more about interactive tables.';\n",
              "          element.innerHTML = '';\n",
              "          dataTable['output_type'] = 'display_data';\n",
              "          await google.colab.output.renderOutput(dataTable, element);\n",
              "          const docLink = document.createElement('div');\n",
              "          docLink.innerHTML = docLinkHtml;\n",
              "          element.appendChild(docLink);\n",
              "        }\n",
              "      </script>\n",
              "    </div>\n",
              "  </div>\n",
              "  "
            ]
          },
          "metadata": {},
          "execution_count": 11
        }
      ]
    },
    {
      "cell_type": "code",
      "source": [
        "import seaborn as sns\n",
        "sns.set_style('darkgrid')\n",
        "sns.histplot(x='Sentiment',data=df)\n",
        "plt.show()"
      ],
      "metadata": {
        "execution": {
          "iopub.status.busy": "2022-10-26T05:57:22.321302Z",
          "iopub.execute_input": "2022-10-26T05:57:22.321663Z",
          "iopub.status.idle": "2022-10-26T05:57:22.560481Z",
          "shell.execute_reply.started": "2022-10-26T05:57:22.321629Z",
          "shell.execute_reply": "2022-10-26T05:57:22.559453Z"
        },
        "trusted": true,
        "colab": {
          "base_uri": "https://localhost:8080/",
          "height": 279
        },
        "id": "DUAWhC40MwJp",
        "outputId": "898f5952-1293-453b-c7db-e8a11be21b55"
      },
      "execution_count": 12,
      "outputs": [
        {
          "output_type": "display_data",
          "data": {
            "text/plain": [
              "<Figure size 432x288 with 1 Axes>"
            ],
            "image/png": "[encoded data removed]"
          },
          "metadata": {}
        }
      ]
    },
    {
      "cell_type": "code",
      "source": [
        "for i in range(3):\n",
        "  print(str(df['Sentence'][i])+\"----->\"+str(len(str(df['Sentence'][i]).split(' '))))\n"
      ],
      "metadata": {
        "colab": {
          "base_uri": "https://localhost:8080/"
        },
        "id": "k60qu2A3Qpiz",
        "outputId": "cf68aa2a-39d2-4992-c49d-0479f8f3fa11"
      },
      "execution_count": 13,
      "outputs": [
        {
          "output_type": "stream",
          "name": "stdout",
          "text": [
            "The GeoSolutions technology will leverage Benefon 's GPS solutions by providing Location Based Search Technology , a Communities Platform , location relevant multimedia content and a new and powerful commercial model .----->32\n",
            "$ESI on lows, down $1.50 to $2.50 BK a real possibility----->11\n",
            "For the last quarter of 2010 , Componenta 's net sales doubled to EUR131m from EUR76m for the same period a year earlier , while it moved to a zero pre-tax profit from a pre-tax loss of EUR7m .----->39\n"
          ]
        }
      ]
    },
    {
      "cell_type": "markdown",
      "source": [
        "**Creating an additional column containing the number of words in each respective sentence**\n",
        "\n"
      ],
      "metadata": {
        "id": "huaqMSLlPU7o"
      }
    },
    {
      "cell_type": "code",
      "source": [
        "df['len'] = list(map(lambda x: len(str(x).split(' ')),df['Sentence']))\n",
        "df.head()"
      ],
      "metadata": {
        "execution": {
          "iopub.status.busy": "2022-10-26T05:57:22.562060Z",
          "iopub.execute_input": "2022-10-26T05:57:22.562431Z",
          "iopub.status.idle": "2022-10-26T05:57:22.585336Z",
          "shell.execute_reply.started": "2022-10-26T05:57:22.562400Z",
          "shell.execute_reply": "2022-10-26T05:57:22.582573Z"
        },
        "trusted": true,
        "id": "C8vx6SQFMwJp",
        "colab": {
          "base_uri": "https://localhost:8080/",
          "height": 206
        },
        "outputId": "7208ef8a-6bf6-4d85-89f8-297723bbf87c"
      },
      "execution_count": 14,
      "outputs": [
        {
          "output_type": "execute_result",
          "data": {
            "text/plain": [
              "                                            Sentence Sentiment  len\n",
              "0  The GeoSolutions technology will leverage Bene...  positive   32\n",
              "1  $ESI on lows, down $1.50 to $2.50 BK a real po...  negative   11\n",
              "2  For the last quarter of 2010 , Componenta 's n...  positive   39\n",
              "3  According to the Finnish-Russian Chamber of Co...   neutral   20\n",
              "4  The Swedish buyout firm has sold its remaining...   neutral   23"
            ],
            "text/html": [
              "\n",
              "  <div id=\"df-3d5c4c00-80bc-4586-aac5-6297b220ecd4\">\n",
              "    <div class=\"colab-df-container\">\n",
              "      <div>\n",
              "<style scoped>\n",
              "    .dataframe tbody tr th:only-of-type {\n",
              "        vertical-align: middle;\n",
              "    }\n",
              "\n",
              "    .dataframe tbody tr th {\n",
              "        vertical-align: top;\n",
              "    }\n",
              "\n",
              "    .dataframe thead th {\n",
              "        text-align: right;\n",
              "    }\n",
              "</style>\n",
              "<table border=\"1\" class=\"dataframe\">\n",
              "  <thead>\n",
              "    <tr style=\"text-align: right;\">\n",
              "      <th></th>\n",
              "      <th>Sentence</th>\n",
              "      <th>Sentiment</th>\n",
              "      <th>len</th>\n",
              "    </tr>\n",
              "  </thead>\n",
              "  <tbody>\n",
              "    <tr>\n",
              "      <th>0</th>\n",
              "      <td>The GeoSolutions technology will leverage Bene...</td>\n",
              "      <td>positive</td>\n",
              "      <td>32</td>\n",
              "    </tr>\n",
              "    <tr>\n",
              "      <th>1</th>\n",
              "      <td>$ESI on lows, down $1.50 to $2.50 BK a real po...</td>\n",
              "      <td>negative</td>\n",
              "      <td>11</td>\n",
              "    </tr>\n",
              "    <tr>\n",
              "      <th>2</th>\n",
              "      <td>For the last quarter of 2010 , Componenta 's n...</td>\n",
              "      <td>positive</td>\n",
              "      <td>39</td>\n",
              "    </tr>\n",
              "    <tr>\n",
              "      <th>3</th>\n",
              "      <td>According to the Finnish-Russian Chamber of Co...</td>\n",
              "      <td>neutral</td>\n",
              "      <td>20</td>\n",
              "    </tr>\n",
              "    <tr>\n",
              "      <th>4</th>\n",
              "      <td>The Swedish buyout firm has sold its remaining...</td>\n",
              "      <td>neutral</td>\n",
              "      <td>23</td>\n",
              "    </tr>\n",
              "  </tbody>\n",
              "</table>\n",
              "</div>\n",
              "      <button class=\"colab-df-convert\" onclick=\"convertToInteractive('df-3d5c4c00-80bc-4586-aac5-6297b220ecd4')\"\n",
              "              title=\"Convert this dataframe to an interactive table.\"\n",
              "              style=\"display:none;\">\n",
              "        \n",
              "  <svg xmlns=\"http://www.w3.org/2000/svg\" height=\"24px\"viewBox=\"0 0 24 24\"\n",
              "       width=\"24px\">\n",
              "    <path d=\"M0 0h24v24H0V0z\" fill=\"none\"/>\n",
              "    <path d=\"M18.56 5.44l.94 2.06.94-2.06 2.06-.94-2.06-.94-.94-2.06-.94 2.06-2.06.94zm-11 1L8.5 8.5l.94-2.06 2.06-.94-2.06-.94L8.5 2.5l-.94 2.06-2.06.94zm10 10l.94 2.06.94-2.06 2.06-.94-2.06-.94-.94-2.06-.94 2.06-2.06.94z\"/><path d=\"M17.41 7.96l-1.37-1.37c-.4-.4-.92-.59-1.43-.59-.52 0-1.04.2-1.43.59L10.3 9.45l-7.72 7.72c-.78.78-.78 2.05 0 2.83L4 21.41c.39.39.9.59 1.41.59.51 0 1.02-.2 1.41-.59l7.78-7.78 2.81-2.81c.8-.78.8-2.07 0-2.86zM5.41 20L4 18.59l7.72-7.72 1.47 1.35L5.41 20z\"/>\n",
              "  </svg>\n",
              "      </button>\n",
              "      \n",
              "  <style>\n",
              "    .colab-df-container {\n",
              "      display:flex;\n",
              "      flex-wrap:wrap;\n",
              "      gap: 12px;\n",
              "    }\n",
              "\n",
              "    .colab-df-convert {\n",
              "      background-color: #E8F0FE;\n",
              "      border: none;\n",
              "      border-radius: 50%;\n",
              "      cursor: pointer;\n",
              "      display: none;\n",
              "      fill: #1967D2;\n",
              "      height: 32px;\n",
              "      padding: 0 0 0 0;\n",
              "      width: 32px;\n",
              "    }\n",
              "\n",
              "    .colab-df-convert:hover {\n",
              "      background-color: #E2EBFA;\n",
              "      box-shadow: 0px 1px 2px rgba(60, 64, 67, 0.3), 0px 1px 3px 1px rgba(60, 64, 67, 0.15);\n",
              "      fill: #174EA6;\n",
              "    }\n",
              "\n",
              "    [theme=dark] .colab-df-convert {\n",
              "      background-color: #3B4455;\n",
              "      fill: #D2E3FC;\n",
              "    }\n",
              "\n",
              "    [theme=dark] .colab-df-convert:hover {\n",
              "      background-color: #434B5C;\n",
              "      box-shadow: 0px 1px 3px 1px rgba(0, 0, 0, 0.15);\n",
              "      filter: drop-shadow(0px 1px 2px rgba(0, 0, 0, 0.3));\n",
              "      fill: #FFFFFF;\n",
              "    }\n",
              "  </style>\n",
              "\n",
              "      <script>\n",
              "        const buttonEl =\n",
              "          document.querySelector('#df-3d5c4c00-80bc-4586-aac5-6297b220ecd4 button.colab-df-convert');\n",
              "        buttonEl.style.display =\n",
              "          google.colab.kernel.accessAllowed ? 'block' : 'none';\n",
              "\n",
              "        async function convertToInteractive(key) {\n",
              "          const element = document.querySelector('#df-3d5c4c00-80bc-4586-aac5-6297b220ecd4');\n",
              "          const dataTable =\n",
              "            await google.colab.kernel.invokeFunction('convertToInteractive',\n",
              "                                                     [key], {});\n",
              "          if (!dataTable) return;\n",
              "\n",
              "          const docLinkHtml = 'Like what you see? Visit the ' +\n",
              "            '<a target=\"_blank\" href=https://colab.research.google.com/notebooks/data_table.ipynb>data table notebook</a>'\n",
              "            + ' to learn more about interactive tables.';\n",
              "          element.innerHTML = '';\n",
              "          dataTable['output_type'] = 'display_data';\n",
              "          await google.colab.output.renderOutput(dataTable, element);\n",
              "          const docLink = document.createElement('div');\n",
              "          docLink.innerHTML = docLinkHtml;\n",
              "          element.appendChild(docLink);\n",
              "        }\n",
              "      </script>\n",
              "    </div>\n",
              "  </div>\n",
              "  "
            ]
          },
          "metadata": {},
          "execution_count": 14
        }
      ]
    },
    {
      "cell_type": "markdown",
      "source": [
        "**converting categorical sentiment column to numerical**"
      ],
      "metadata": {
        "id": "Hrd22xaBO_SL"
      }
    },
    {
      "cell_type": "code",
      "source": [
        "mapdf = {'positive':0,'negative':1,'neutral':2}\n",
        "df['Sentiment'] = list(map(lambda x:mapdf[x],df['Sentiment']))\n",
        "df.head()"
      ],
      "metadata": {
        "execution": {
          "iopub.status.busy": "2022-10-26T05:57:22.862193Z",
          "iopub.execute_input": "2022-10-26T05:57:22.862868Z",
          "iopub.status.idle": "2022-10-26T05:57:22.877710Z",
          "shell.execute_reply.started": "2022-10-26T05:57:22.862831Z",
          "shell.execute_reply": "2022-10-26T05:57:22.876619Z"
        },
        "trusted": true,
        "id": "pybUfaXnMwJp",
        "colab": {
          "base_uri": "https://localhost:8080/",
          "height": 206
        },
        "outputId": "e96f09cb-249e-45b1-80e3-3d25ebce6967"
      },
      "execution_count": 15,
      "outputs": [
        {
          "output_type": "execute_result",
          "data": {
            "text/plain": [
              "                                            Sentence  Sentiment  len\n",
              "0  The GeoSolutions technology will leverage Bene...          0   32\n",
              "1  $ESI on lows, down $1.50 to $2.50 BK a real po...          1   11\n",
              "2  For the last quarter of 2010 , Componenta 's n...          0   39\n",
              "3  According to the Finnish-Russian Chamber of Co...          2   20\n",
              "4  The Swedish buyout firm has sold its remaining...          2   23"
            ],
            "text/html": [
              "\n",
              "  <div id=\"df-93c074c2-bd63-4bef-bc40-496fae143060\">\n",
              "    <div class=\"colab-df-container\">\n",
              "      <div>\n",
              "<style scoped>\n",
              "    .dataframe tbody tr th:only-of-type {\n",
              "        vertical-align: middle;\n",
              "    }\n",
              "\n",
              "    .dataframe tbody tr th {\n",
              "        vertical-align: top;\n",
              "    }\n",
              "\n",
              "    .dataframe thead th {\n",
              "        text-align: right;\n",
              "    }\n",
              "</style>\n",
              "<table border=\"1\" class=\"dataframe\">\n",
              "  <thead>\n",
              "    <tr style=\"text-align: right;\">\n",
              "      <th></th>\n",
              "      <th>Sentence</th>\n",
              "      <th>Sentiment</th>\n",
              "      <th>len</th>\n",
              "    </tr>\n",
              "  </thead>\n",
              "  <tbody>\n",
              "    <tr>\n",
              "      <th>0</th>\n",
              "      <td>The GeoSolutions technology will leverage Bene...</td>\n",
              "      <td>0</td>\n",
              "      <td>32</td>\n",
              "    </tr>\n",
              "    <tr>\n",
              "      <th>1</th>\n",
              "      <td>$ESI on lows, down $1.50 to $2.50 BK a real po...</td>\n",
              "      <td>1</td>\n",
              "      <td>11</td>\n",
              "    </tr>\n",
              "    <tr>\n",
              "      <th>2</th>\n",
              "      <td>For the last quarter of 2010 , Componenta 's n...</td>\n",
              "      <td>0</td>\n",
              "      <td>39</td>\n",
              "    </tr>\n",
              "    <tr>\n",
              "      <th>3</th>\n",
              "      <td>According to the Finnish-Russian Chamber of Co...</td>\n",
              "      <td>2</td>\n",
              "      <td>20</td>\n",
              "    </tr>\n",
              "    <tr>\n",
              "      <th>4</th>\n",
              "      <td>The Swedish buyout firm has sold its remaining...</td>\n",
              "      <td>2</td>\n",
              "      <td>23</td>\n",
              "    </tr>\n",
              "  </tbody>\n",
              "</table>\n",
              "</div>\n",
              "      <button class=\"colab-df-convert\" onclick=\"convertToInteractive('df-93c074c2-bd63-4bef-bc40-496fae143060')\"\n",
              "              title=\"Convert this dataframe to an interactive table.\"\n",
              "              style=\"display:none;\">\n",
              "        \n",
              "  <svg xmlns=\"http://www.w3.org/2000/svg\" height=\"24px\"viewBox=\"0 0 24 24\"\n",
              "       width=\"24px\">\n",
              "    <path d=\"M0 0h24v24H0V0z\" fill=\"none\"/>\n",
              "    <path d=\"M18.56 5.44l.94 2.06.94-2.06 2.06-.94-2.06-.94-.94-2.06-.94 2.06-2.06.94zm-11 1L8.5 8.5l.94-2.06 2.06-.94-2.06-.94L8.5 2.5l-.94 2.06-2.06.94zm10 10l.94 2.06.94-2.06 2.06-.94-2.06-.94-.94-2.06-.94 2.06-2.06.94z\"/><path d=\"M17.41 7.96l-1.37-1.37c-.4-.4-.92-.59-1.43-.59-.52 0-1.04.2-1.43.59L10.3 9.45l-7.72 7.72c-.78.78-.78 2.05 0 2.83L4 21.41c.39.39.9.59 1.41.59.51 0 1.02-.2 1.41-.59l7.78-7.78 2.81-2.81c.8-.78.8-2.07 0-2.86zM5.41 20L4 18.59l7.72-7.72 1.47 1.35L5.41 20z\"/>\n",
              "  </svg>\n",
              "      </button>\n",
              "      \n",
              "  <style>\n",
              "    .colab-df-container {\n",
              "      display:flex;\n",
              "      flex-wrap:wrap;\n",
              "      gap: 12px;\n",
              "    }\n",
              "\n",
              "    .colab-df-convert {\n",
              "      background-color: #E8F0FE;\n",
              "      border: none;\n",
              "      border-radius: 50%;\n",
              "      cursor: pointer;\n",
              "      display: none;\n",
              "      fill: #1967D2;\n",
              "      height: 32px;\n",
              "      padding: 0 0 0 0;\n",
              "      width: 32px;\n",
              "    }\n",
              "\n",
              "    .colab-df-convert:hover {\n",
              "      background-color: #E2EBFA;\n",
              "      box-shadow: 0px 1px 2px rgba(60, 64, 67, 0.3), 0px 1px 3px 1px rgba(60, 64, 67, 0.15);\n",
              "      fill: #174EA6;\n",
              "    }\n",
              "\n",
              "    [theme=dark] .colab-df-convert {\n",
              "      background-color: #3B4455;\n",
              "      fill: #D2E3FC;\n",
              "    }\n",
              "\n",
              "    [theme=dark] .colab-df-convert:hover {\n",
              "      background-color: #434B5C;\n",
              "      box-shadow: 0px 1px 3px 1px rgba(0, 0, 0, 0.15);\n",
              "      filter: drop-shadow(0px 1px 2px rgba(0, 0, 0, 0.3));\n",
              "      fill: #FFFFFF;\n",
              "    }\n",
              "  </style>\n",
              "\n",
              "      <script>\n",
              "        const buttonEl =\n",
              "          document.querySelector('#df-93c074c2-bd63-4bef-bc40-496fae143060 button.colab-df-convert');\n",
              "        buttonEl.style.display =\n",
              "          google.colab.kernel.accessAllowed ? 'block' : 'none';\n",
              "\n",
              "        async function convertToInteractive(key) {\n",
              "          const element = document.querySelector('#df-93c074c2-bd63-4bef-bc40-496fae143060');\n",
              "          const dataTable =\n",
              "            await google.colab.kernel.invokeFunction('convertToInteractive',\n",
              "                                                     [key], {});\n",
              "          if (!dataTable) return;\n",
              "\n",
              "          const docLinkHtml = 'Like what you see? Visit the ' +\n",
              "            '<a target=\"_blank\" href=https://colab.research.google.com/notebooks/data_table.ipynb>data table notebook</a>'\n",
              "            + ' to learn more about interactive tables.';\n",
              "          element.innerHTML = '';\n",
              "          dataTable['output_type'] = 'display_data';\n",
              "          await google.colab.output.renderOutput(dataTable, element);\n",
              "          const docLink = document.createElement('div');\n",
              "          docLink.innerHTML = docLinkHtml;\n",
              "          element.appendChild(docLink);\n",
              "        }\n",
              "      </script>\n",
              "    </div>\n",
              "  </div>\n",
              "  "
            ]
          },
          "metadata": {},
          "execution_count": 15
        }
      ]
    },
    {
      "cell_type": "code",
      "source": [
        "print(df['Sentiment'].corr(df['len']))"
      ],
      "metadata": {
        "execution": {
          "iopub.status.busy": "2022-10-26T05:57:22.879575Z",
          "iopub.execute_input": "2022-10-26T05:57:22.879933Z",
          "iopub.status.idle": "2022-10-26T05:57:22.887084Z",
          "shell.execute_reply.started": "2022-10-26T05:57:22.879879Z",
          "shell.execute_reply": "2022-10-26T05:57:22.886044Z"
        },
        "trusted": true,
        "id": "IKXtxjc3MwJq",
        "colab": {
          "base_uri": "https://localhost:8080/"
        },
        "outputId": "6cd0d0a3-93b8-4bf8-c379-a96d8e6fe7d1"
      },
      "execution_count": 16,
      "outputs": [
        {
          "output_type": "stream",
          "name": "stdout",
          "text": [
            "0.10137114484667775\n"
          ]
        }
      ]
    },
    {
      "cell_type": "code",
      "source": [
        "import locale\n",
        "print(locale.getpreferredencoding())"
      ],
      "metadata": {
        "colab": {
          "base_uri": "https://localhost:8080/"
        },
        "id": "0IvN38tD9DFe",
        "outputId": "3e656cad-2b82-480e-8ec4-65a39e888eca"
      },
      "execution_count": 17,
      "outputs": [
        {
          "output_type": "stream",
          "name": "stdout",
          "text": [
            "UTF-8\n"
          ]
        }
      ]
    },
    {
      "cell_type": "code",
      "source": [
        "sentences = df['Sentence'].copy()[:]\n",
        "sentences = sentences.to_list()\n",
        "sentences = list(map(lambda x: x.lower(),sentences))\n",
        "#sentences = list(map(lambda x: th.cont_exp(x),sentences)) #you're -> you are; i'm -> i am\n",
        "sentences = list(map(lambda x: th.remove_emails(x),sentences))\n",
        "sentences = list(map(lambda x: th.remove_emails(x),sentences))\n",
        "sentences = list(map(lambda x: th.remove_html_tags(x),sentences))\n",
        "sentences = list(map(lambda x: th.remove_stopwords(x),sentences))\n",
        "sentences = list(map(lambda x: th.remove_special_chars(x),sentences))\n",
        "sentences = list(map(lambda x: th.remove_accented_chars(x),sentences))\n",
        "sentences = list(map(lambda x: th.make_base(x),sentences))\n"
      ],
      "metadata": {
        "execution": {
          "iopub.status.busy": "2022-10-26T05:57:22.888476Z",
          "iopub.execute_input": "2022-10-26T05:57:22.889490Z",
          "iopub.status.idle": "2022-10-26T05:58:17.167448Z",
          "shell.execute_reply.started": "2022-10-26T05:57:22.889444Z",
          "shell.execute_reply": "2022-10-26T05:58:17.166437Z"
        },
        "trusted": true,
        "id": "YB3-f7OSMwJq"
      },
      "execution_count": 19,
      "outputs": []
    },
    {
      "cell_type": "code",
      "source": [
        "sentences = list(map(lambda x: re.sub(\"(.)\\\\1{2,}\", \"\\\\1\", x),sentences))"
      ],
      "metadata": {
        "id": "UkZb_0qD-ALZ"
      },
      "execution_count": 20,
      "outputs": []
    },
    {
      "cell_type": "code",
      "source": [
        "#sentences = list(map(lambda x: th.spelling_correction(x),sentences))"
      ],
      "metadata": {
        "id": "1I-frYUV-VFo"
      },
      "execution_count": 21,
      "outputs": []
    },
    {
      "cell_type": "code",
      "source": [
        "#sentences = list(map(lambda x: str(x),sentences))"
      ],
      "metadata": {
        "id": "0-EVhVjYNLmu"
      },
      "execution_count": 22,
      "outputs": []
    },
    {
      "cell_type": "code",
      "source": [
        "nltk.download('wordnet')"
      ],
      "metadata": {
        "colab": {
          "base_uri": "https://localhost:8080/"
        },
        "id": "-vpArpbANlhk",
        "outputId": "06580042-7e62-49e5-b818-d029027a915f"
      },
      "execution_count": 25,
      "outputs": [
        {
          "output_type": "stream",
          "name": "stderr",
          "text": [
            "[nltk_data] Downloading package wordnet to /root/nltk_data...\n"
          ]
        },
        {
          "output_type": "execute_result",
          "data": {
            "text/plain": [
              "True"
            ]
          },
          "metadata": {},
          "execution_count": 25
        }
      ]
    },
    {
      "cell_type": "code",
      "source": [
        "nltk.download('omw-1.4')"
      ],
      "metadata": {
        "colab": {
          "base_uri": "https://localhost:8080/"
        },
        "id": "Q7S8FLkDNpVX",
        "outputId": "fc7dfdd2-f3bf-4038-cb40-92c0f36c0991"
      },
      "execution_count": 26,
      "outputs": [
        {
          "output_type": "stream",
          "name": "stderr",
          "text": [
            "[nltk_data] Downloading package omw-1.4 to /root/nltk_data...\n"
          ]
        },
        {
          "output_type": "execute_result",
          "data": {
            "text/plain": [
              "True"
            ]
          },
          "metadata": {},
          "execution_count": 26
        }
      ]
    },
    {
      "cell_type": "code",
      "source": [
        "lemmatizer = nltk.stem.WordNetLemmatizer()\n",
        "w_tokenizer = nltk.tokenize.WhitespaceTokenizer()\n",
        "def lemmatize_text(text):\n",
        "    return [lemmatizer.lemmatize(w) for w in w_tokenizer.tokenize(text)]\n",
        "sentences_1 = list(map(lambda x: lemmatize_text(x),sentences))"
      ],
      "metadata": {
        "id": "gEbnMGLuHI9K"
      },
      "execution_count": 27,
      "outputs": []
    },
    {
      "cell_type": "code",
      "source": [
        "sentences[:3]"
      ],
      "metadata": {
        "colab": {
          "base_uri": "https://localhost:8080/"
        },
        "id": "mTSSdc2jeI7L",
        "outputId": "7bdb5ee4-e4fc-4836-d311-4fa8aa0e0828"
      },
      "execution_count": 28,
      "outputs": [
        {
          "output_type": "execute_result",
          "data": {
            "text/plain": [
              "['geosolution technology leverage benefon gps solution provide location base search technology community platform location relevant multimedia content new powerful commercial model',\n",
              " 'esi low 150 250 bk real possibility',\n",
              " 'quarter 2010 componenta net sale double eur131 m eur76 m period year early move zero pretax profit pretax loss eur7 m']"
            ]
          },
          "metadata": {},
          "execution_count": 28
        }
      ]
    },
    {
      "cell_type": "code",
      "source": [
        "sentences_1[:3]"
      ],
      "metadata": {
        "colab": {
          "base_uri": "https://localhost:8080/"
        },
        "id": "Rnz3RySQN7e0",
        "outputId": "78d950e1-f7c4-4c3e-f91f-307407848ce2"
      },
      "execution_count": 29,
      "outputs": [
        {
          "output_type": "execute_result",
          "data": {
            "text/plain": [
              "[['geosolution',\n",
              "  'technology',\n",
              "  'leverage',\n",
              "  'benefon',\n",
              "  'gps',\n",
              "  'solution',\n",
              "  'provide',\n",
              "  'location',\n",
              "  'base',\n",
              "  'search',\n",
              "  'technology',\n",
              "  'community',\n",
              "  'platform',\n",
              "  'location',\n",
              "  'relevant',\n",
              "  'multimedia',\n",
              "  'content',\n",
              "  'new',\n",
              "  'powerful',\n",
              "  'commercial',\n",
              "  'model'],\n",
              " ['esi', 'low', '150', '250', 'bk', 'real', 'possibility'],\n",
              " ['quarter',\n",
              "  '2010',\n",
              "  'componenta',\n",
              "  'net',\n",
              "  'sale',\n",
              "  'double',\n",
              "  'eur131',\n",
              "  'm',\n",
              "  'eur76',\n",
              "  'm',\n",
              "  'period',\n",
              "  'year',\n",
              "  'early',\n",
              "  'move',\n",
              "  'zero',\n",
              "  'pretax',\n",
              "  'profit',\n",
              "  'pretax',\n",
              "  'loss',\n",
              "  'eur7',\n",
              "  'm']]"
            ]
          },
          "metadata": {},
          "execution_count": 29
        }
      ]
    },
    {
      "cell_type": "code",
      "source": [
        "# Play an audio beep. Any audio URL will do.\n",
        "from google.colab import output\n",
        "output.eval_js('new Audio(\"https://upload.wikimedia.org/wikipedia/commons/0/05/Beep-09.ogg\").play()')"
      ],
      "metadata": {
        "id": "2nbw7xSjFIEc"
      },
      "execution_count": 30,
      "outputs": []
    },
    {
      "cell_type": "code",
      "source": [
        "import nltk\n",
        "nltk.download('punkt')\n",
        "pairs = []\n",
        "for sent in tqdm(sentences):\n",
        "    pairs.extend(nltk.word_tokenize(sent))\n",
        "freq = nltk.FreqDist(pairs)\n",
        "freq.most_common(10)"
      ],
      "metadata": {
        "execution": {
          "iopub.status.busy": "2022-10-26T05:58:17.180193Z",
          "iopub.execute_input": "2022-10-26T05:58:17.180751Z",
          "iopub.status.idle": "2022-10-26T05:58:17.972232Z",
          "shell.execute_reply.started": "2022-10-26T05:58:17.180716Z",
          "shell.execute_reply": "2022-10-26T05:58:17.971027Z"
        },
        "trusted": true,
        "colab": {
          "base_uri": "https://localhost:8080/",
          "height": 264,
          "referenced_widgets": [
            "5f2835ecac9e42e084315d389d2026c7",
            "02259316887b49759a724e7ed8ffdfe4",
            "ef6650d6f19249d1a544412d913f1675",
            "f9f0f311a2a04102b4b39a5554f850c9",
            "69316228758a4d14825bc659529da5e4",
            "6d730dc2c6134c56a4f017d7bbd9505f",
            "625b3fcbfb8e4c37a9b7bc86b3efe696",
            "4403267052df43a7b705a7ea3e6edd0a",
            "0a672eba7ef04e6aa58c68ef156e0955",
            "d7d90c5347e34d4a8dac031992503420",
            "6c53ae17c46f4b45848cf1cea1c85d9e"
          ]
        },
        "id": "0auuihgoMwJr",
        "outputId": "432a2c26-41b2-4b1f-a852-30a8c1ff33dc"
      },
      "execution_count": 31,
      "outputs": [
        {
          "output_type": "stream",
          "name": "stderr",
          "text": [
            "[nltk_data] Downloading package punkt to /root/nltk_data...\n",
            "[nltk_data]   Unzipping tokenizers/punkt.zip.\n"
          ]
        },
        {
          "output_type": "display_data",
          "data": {
            "text/plain": [
              "  0%|          | 0/5842 [00:00<?, ?it/s]"
            ],
            "application/vnd.jupyter.widget-view+json": {
              "version_major": 2,
              "version_minor": 0,
              "model_id": "5f2835ecac9e42e084315d389d2026c7"
            }
          },
          "metadata": {}
        },
        {
          "output_type": "execute_result",
          "data": {
            "text/plain": [
              "[('eur', 1284),\n",
              " ('company', 917),\n",
              " ('mn', 729),\n",
              " ('sale', 604),\n",
              " ('profit', 584),\n",
              " ('say', 574),\n",
              " ('finnish', 527),\n",
              " ('share', 511),\n",
              " ('net', 499),\n",
              " ('million', 493)]"
            ]
          },
          "metadata": {},
          "execution_count": 31
        }
      ]
    },
    {
      "cell_type": "code",
      "source": [
        "tempdf = pd.DataFrame(freq.most_common(10),  columns=['word', 'count'])\n",
        "sns.barplot(x='word',y='count',data=tempdf)\n",
        "plt.title(\"Top 10 words\")\n",
        "plt.show()"
      ],
      "metadata": {
        "execution": {
          "iopub.status.busy": "2022-10-26T05:58:17.973816Z",
          "iopub.execute_input": "2022-10-26T05:58:17.974289Z",
          "iopub.status.idle": "2022-10-26T05:58:18.246753Z",
          "shell.execute_reply.started": "2022-10-26T05:58:17.974251Z",
          "shell.execute_reply": "2022-10-26T05:58:18.245652Z"
        },
        "trusted": true,
        "colab": {
          "base_uri": "https://localhost:8080/",
          "height": 295
        },
        "id": "1bW2Y9n9MwJr",
        "outputId": "be285efe-c81e-4f47-eee9-9f25eebc06ca"
      },
      "execution_count": 32,
      "outputs": [
        {
          "output_type": "display_data",
          "data": {
            "text/plain": [
              "<Figure size 432x288 with 1 Axes>"
            ],
            "image/png": "[encoded data removed]"
          },
          "metadata": {}
        }
      ]
    },
    {
      "cell_type": "code",
      "source": [
        "from sklearn.model_selection import train_test_split\n",
        "from tensorflow.keras.utils import to_categorical\n",
        "#from keras.utils.all_utils import to_categorical\n",
        "y = to_categorical(df['Sentiment'])\n",
        "x = sentences.copy()\n",
        "X_train,X_test, y_train,y_test = train_test_split(x,y,test_size=0.3,stratify=y,random_state=42)"
      ],
      "metadata": {
        "execution": {
          "iopub.status.busy": "2022-10-26T05:58:18.248072Z",
          "iopub.execute_input": "2022-10-26T05:58:18.248741Z",
          "iopub.status.idle": "2022-10-26T05:58:18.410775Z",
          "shell.execute_reply.started": "2022-10-26T05:58:18.248700Z",
          "shell.execute_reply": "2022-10-26T05:58:18.409734Z"
        },
        "trusted": true,
        "id": "L4FtOybMMwJr"
      },
      "execution_count": 33,
      "outputs": []
    },
    {
      "cell_type": "markdown",
      "source": [
        "## Vectorization"
      ],
      "metadata": {
        "id": "BwvXIud6MwJs"
      }
    },
    {
      "cell_type": "code",
      "source": [
        "from keras.preprocessing.text import Tokenizer\n",
        "num_words = 12000 \n",
        "tokenizer=Tokenizer(num_words,lower=True)\n",
        "df_total = pd.concat([pd.Series(X_train), pd.Series(X_test)], axis = 0)\n",
        "tokenizer.fit_on_texts(df_total)"
      ],
      "metadata": {
        "execution": {
          "iopub.status.busy": "2022-10-26T05:58:18.412223Z",
          "iopub.execute_input": "2022-10-26T05:58:18.412635Z",
          "iopub.status.idle": "2022-10-26T05:58:18.779539Z",
          "shell.execute_reply.started": "2022-10-26T05:58:18.412599Z",
          "shell.execute_reply": "2022-10-26T05:58:18.778561Z"
        },
        "trusted": true,
        "id": "PZng-ymAMwJs"
      },
      "execution_count": 34,
      "outputs": []
    },
    {
      "cell_type": "code",
      "source": [
        "from tensorflow.keras.preprocessing.sequence import pad_sequences\n",
        "\n",
        "X_train_ =tokenizer.texts_to_sequences(X_train)\n",
        "X_train_pad=pad_sequences(X_train_,maxlen=81,padding='post')\n",
        "X_test_ = tokenizer.texts_to_sequences(X_test)\n",
        "X_test_pad = pad_sequences(X_test_, maxlen = 81, padding = 'post')"
      ],
      "metadata": {
        "execution": {
          "iopub.status.busy": "2022-10-26T05:58:18.780944Z",
          "iopub.execute_input": "2022-10-26T05:58:18.781618Z",
          "iopub.status.idle": "2022-10-26T05:58:18.889630Z",
          "shell.execute_reply.started": "2022-10-26T05:58:18.781574Z",
          "shell.execute_reply": "2022-10-26T05:58:18.888648Z"
        },
        "trusted": true,
        "id": "M4IWGbJ6MwJs"
      },
      "execution_count": 35,
      "outputs": []
    },
    {
      "cell_type": "code",
      "source": [
        "print(X_train_pad.shape,X_test_pad.shape)"
      ],
      "metadata": {
        "execution": {
          "iopub.status.busy": "2022-10-26T05:58:18.891249Z",
          "iopub.execute_input": "2022-10-26T05:58:18.891679Z",
          "iopub.status.idle": "2022-10-26T05:58:18.899296Z",
          "shell.execute_reply.started": "2022-10-26T05:58:18.891640Z",
          "shell.execute_reply": "2022-10-26T05:58:18.898185Z"
        },
        "trusted": true,
        "colab": {
          "base_uri": "https://localhost:8080/"
        },
        "id": "VDQq5h2fMwJs",
        "outputId": "2eac1657-eb16-492a-dd7f-56c1a35fa932"
      },
      "execution_count": 36,
      "outputs": [
        {
          "output_type": "stream",
          "name": "stdout",
          "text": [
            "(4089, 81) (1753, 81)\n"
          ]
        }
      ]
    },
    {
      "cell_type": "markdown",
      "source": [
        "## LSTM"
      ],
      "metadata": {
        "id": "G7UP0VdzMwJs"
      }
    },
    {
      "cell_type": "code",
      "source": [
        "from keras.models import Sequential\n",
        "from keras.layers import LSTM,Dense,Bidirectional,Embedding,Dropout"
      ],
      "metadata": {
        "execution": {
          "iopub.status.busy": "2022-10-26T05:58:18.900911Z",
          "iopub.execute_input": "2022-10-26T05:58:18.902202Z",
          "iopub.status.idle": "2022-10-26T05:58:18.908917Z",
          "shell.execute_reply.started": "2022-10-26T05:58:18.902165Z",
          "shell.execute_reply": "2022-10-26T05:58:18.907846Z"
        },
        "trusted": true,
        "id": "G9gPdaVWMwJt"
      },
      "execution_count": 37,
      "outputs": []
    },
    {
      "cell_type": "code",
      "source": [
        "lstm = Sequential()\n",
        "lstm.add(Embedding(input_dim = num_words,\n",
        "                          output_dim = 100,\n",
        "                          input_length= X_train_pad.shape[1]))\n",
        "lstm.add(Dropout(0.2))\n",
        "lstm.add(Bidirectional(LSTM(128,return_sequences=True)))\n",
        "lstm.add(Dropout(0.2))\n",
        "lstm.add(Bidirectional(LSTM(256,return_sequences=True)))\n",
        "lstm.add(Dropout(0.2))\n",
        "lstm.add(Bidirectional(LSTM(128,return_sequences=False)))\n",
        "lstm.add(Dense(64,activation='tanh'))\n",
        "lstm.add(Dense(32,activation='tanh'))\n",
        "lstm.add(Dense(10,activation='tanh'))\n",
        "lstm.add(Dense(3,activation='softmax'))"
      ],
      "metadata": {
        "execution": {
          "iopub.status.busy": "2022-10-26T05:58:18.910220Z",
          "iopub.execute_input": "2022-10-26T05:58:18.910861Z",
          "iopub.status.idle": "2022-10-26T05:58:24.912016Z",
          "shell.execute_reply.started": "2022-10-26T05:58:18.910773Z",
          "shell.execute_reply": "2022-10-26T05:58:24.910947Z"
        },
        "trusted": true,
        "id": "kmH369cBMwJt"
      },
      "execution_count": 38,
      "outputs": []
    },
    {
      "cell_type": "code",
      "source": [
        "lstm.compile(optimizer='adam',loss='categorical_crossentropy',metrics=['accuracy'])"
      ],
      "metadata": {
        "execution": {
          "iopub.status.busy": "2022-10-26T05:58:24.913310Z",
          "iopub.execute_input": "2022-10-26T05:58:24.913686Z",
          "iopub.status.idle": "2022-10-26T05:58:24.930642Z",
          "shell.execute_reply.started": "2022-10-26T05:58:24.913650Z",
          "shell.execute_reply": "2022-10-26T05:58:24.929577Z"
        },
        "trusted": true,
        "id": "paY-vcNMMwJt"
      },
      "execution_count": 39,
      "outputs": []
    },
    {
      "cell_type": "code",
      "source": [
        "lstm.summary()"
      ],
      "metadata": {
        "execution": {
          "iopub.status.busy": "2022-10-26T05:58:24.932259Z",
          "iopub.execute_input": "2022-10-26T05:58:24.932758Z",
          "iopub.status.idle": "2022-10-26T05:58:24.941469Z",
          "shell.execute_reply.started": "2022-10-26T05:58:24.932722Z",
          "shell.execute_reply": "2022-10-26T05:58:24.940436Z"
        },
        "trusted": true,
        "colab": {
          "base_uri": "https://localhost:8080/"
        },
        "id": "dvCQO3LVMwJt",
        "outputId": "b5bf4edf-2b44-4cae-f20e-431ad2a0d26c"
      },
      "execution_count": 40,
      "outputs": [
        {
          "output_type": "stream",
          "name": "stdout",
          "text": [
            "Model: \"sequential\"\n",
            "_________________________________________________________________\n",
            " Layer (type)                Output Shape              Param #   \n",
            "=================================================================\n",
            " embedding (Embedding)       (None, 81, 100)           1200000   \n",
            "                                                                 \n",
            " dropout (Dropout)           (None, 81, 100)           0         \n",
            "                                                                 \n",
            " bidirectional (Bidirectiona  (None, 81, 256)          234496    \n",
            " l)                                                              \n",
            "                                                                 \n",
            " dropout_1 (Dropout)         (None, 81, 256)           0         \n",
            "                                                                 \n",
            " bidirectional_1 (Bidirectio  (None, 81, 512)          1050624   \n",
            " nal)                                                            \n",
            "                                                                 \n",
            " dropout_2 (Dropout)         (None, 81, 512)           0         \n",
            "                                                                 \n",
            " bidirectional_2 (Bidirectio  (None, 256)              656384    \n",
            " nal)                                                            \n",
            "                                                                 \n",
            " dense (Dense)               (None, 64)                16448     \n",
            "                                                                 \n",
            " dense_1 (Dense)             (None, 32)                2080      \n",
            "                                                                 \n",
            " dense_2 (Dense)             (None, 10)                330       \n",
            "                                                                 \n",
            " dense_3 (Dense)             (None, 3)                 33        \n",
            "                                                                 \n",
            "=================================================================\n",
            "Total params: 3,160,395\n",
            "Trainable params: 3,160,395\n",
            "Non-trainable params: 0\n",
            "_________________________________________________________________\n"
          ]
        }
      ]
    },
    {
      "cell_type": "code",
      "source": [
        "from keras.callbacks import EarlyStopping, ModelCheckpoint\n",
        "es = EarlyStopping(monitor = 'val_loss', mode = 'min', verbose = 1, patience = 5)\n",
        "mc = ModelCheckpoint('./model.h5', monitor = 'val_accuracy', mode = 'max', verbose = 1, save_best_only = True)"
      ],
      "metadata": {
        "execution": {
          "iopub.status.busy": "2022-10-26T05:58:24.943040Z",
          "iopub.execute_input": "2022-10-26T05:58:24.943686Z",
          "iopub.status.idle": "2022-10-26T05:58:24.951235Z",
          "shell.execute_reply.started": "2022-10-26T05:58:24.943649Z",
          "shell.execute_reply": "2022-10-26T05:58:24.950317Z"
        },
        "trusted": true,
        "id": "8cZl7lYHMwJt"
      },
      "execution_count": 41,
      "outputs": []
    },
    {
      "cell_type": "code",
      "source": [
        "lstm_history = lstm.fit(X_train_pad,y_train, epochs = 10, batch_size = 64, validation_data=(X_test_pad, y_test),verbose = 1, callbacks= [es, mc])"
      ],
      "metadata": {
        "colab": {
          "base_uri": "https://localhost:8080/"
        },
        "id": "laPybQMtOkok",
        "outputId": "1bad9886-e9f0-45f0-e69d-8669f4f46527"
      },
      "execution_count": 42,
      "outputs": [
        {
          "output_type": "stream",
          "name": "stdout",
          "text": [
            "Epoch 1/10\n",
            "64/64 [==============================] - ETA: 0s - loss: 0.9505 - accuracy: 0.5652\n",
            "Epoch 1: val_accuracy improved from -inf to 0.66115, saving model to ./model.h5\n",
            "64/64 [==============================] - 32s 241ms/step - loss: 0.9505 - accuracy: 0.5652 - val_loss: 0.8206 - val_accuracy: 0.6612\n",
            "Epoch 2/10\n",
            "64/64 [==============================] - ETA: 0s - loss: 0.5661 - accuracy: 0.7743\n",
            "Epoch 2: val_accuracy improved from 0.66115 to 0.67998, saving model to ./model.h5\n",
            "64/64 [==============================] - 8s 124ms/step - loss: 0.5661 - accuracy: 0.7743 - val_loss: 0.7534 - val_accuracy: 0.6800\n",
            "Epoch 3/10\n",
            "64/64 [==============================] - ETA: 0s - loss: 0.3445 - accuracy: 0.8635\n",
            "Epoch 3: val_accuracy did not improve from 0.67998\n",
            "64/64 [==============================] - 7s 103ms/step - loss: 0.3445 - accuracy: 0.8635 - val_loss: 0.8269 - val_accuracy: 0.6554\n",
            "Epoch 4/10\n",
            "64/64 [==============================] - ETA: 0s - loss: 0.2550 - accuracy: 0.8944\n",
            "Epoch 4: val_accuracy did not improve from 0.67998\n",
            "64/64 [==============================] - 5s 71ms/step - loss: 0.2550 - accuracy: 0.8944 - val_loss: 0.9662 - val_accuracy: 0.6532\n",
            "Epoch 5/10\n",
            "64/64 [==============================] - ETA: 0s - loss: 0.2135 - accuracy: 0.9012\n",
            "Epoch 5: val_accuracy did not improve from 0.67998\n",
            "64/64 [==============================] - 5s 75ms/step - loss: 0.2135 - accuracy: 0.9012 - val_loss: 1.0297 - val_accuracy: 0.6554\n",
            "Epoch 6/10\n",
            "64/64 [==============================] - ETA: 0s - loss: 0.1754 - accuracy: 0.9188\n",
            "Epoch 6: val_accuracy did not improve from 0.67998\n",
            "64/64 [==============================] - 4s 58ms/step - loss: 0.1754 - accuracy: 0.9188 - val_loss: 1.1443 - val_accuracy: 0.6452\n",
            "Epoch 7/10\n",
            "64/64 [==============================] - ETA: 0s - loss: 0.1630 - accuracy: 0.9188\n",
            "Epoch 7: val_accuracy did not improve from 0.67998\n",
            "64/64 [==============================] - 3s 51ms/step - loss: 0.1630 - accuracy: 0.9188 - val_loss: 1.2260 - val_accuracy: 0.6486\n",
            "Epoch 7: early stopping\n"
          ]
        }
      ]
    },
    {
      "cell_type": "code",
      "source": [
        "plt.plot(lstm_history.history['accuracy'], label='Train Data')\n",
        "plt.plot(lstm_history.history['val_accuracy'], label='Test Data')\n",
        "plt.xlabel('Epoch')\n",
        "plt.ylabel('Accuracy')\n",
        "#plt.ylim([0.8, 1])\n",
        "plt.legend(loc='best')\n",
        "plt.show()"
      ],
      "metadata": {
        "execution": {
          "iopub.status.busy": "2022-10-26T05:58:58.990311Z",
          "iopub.execute_input": "2022-10-26T05:58:58.990726Z",
          "iopub.status.idle": "2022-10-26T05:59:13.190460Z",
          "shell.execute_reply.started": "2022-10-26T05:58:58.990688Z",
          "shell.execute_reply": "2022-10-26T05:59:13.189403Z"
        },
        "trusted": true,
        "colab": {
          "base_uri": "https://localhost:8080/",
          "height": 279
        },
        "id": "Dp1qdNmYMwJt",
        "outputId": "8b5deee9-4da3-4039-da4c-4ff399c2f389"
      },
      "execution_count": 43,
      "outputs": [
        {
          "output_type": "display_data",
          "data": {
            "text/plain": [
              "<Figure size 432x288 with 1 Axes>"
            ],
            "image/png": "[encoded data removed]"
          },
          "metadata": {}
        }
      ]
    },
    {
      "cell_type": "code",
      "source": [
        "plt.plot(lstm_history.history['loss'], label='Train loss')\n",
        "plt.plot(lstm_history.history['val_loss'], label='Test loss')\n",
        "plt.xlabel('Epoch')\n",
        "plt.ylabel('Loss')\n",
        "plt.legend(loc='best')\n",
        "plt.show()"
      ],
      "metadata": {
        "execution": {
          "iopub.status.busy": "2022-10-26T05:59:13.192179Z",
          "iopub.execute_input": "2022-10-26T05:59:13.192863Z",
          "iopub.status.idle": "2022-10-26T05:59:13.439657Z",
          "shell.execute_reply.started": "2022-10-26T05:59:13.192823Z",
          "shell.execute_reply": "2022-10-26T05:59:13.438411Z"
        },
        "trusted": true,
        "colab": {
          "base_uri": "https://localhost:8080/",
          "height": 279
        },
        "id": "oGzuH31BMwJu",
        "outputId": "07e31a75-1e21-46cf-a310-c97f2b951c18"
      },
      "execution_count": 44,
      "outputs": [
        {
          "output_type": "display_data",
          "data": {
            "text/plain": [
              "<Figure size 432x288 with 1 Axes>"
            ],
            "image/png": "[encoded data removed]"
          },
          "metadata": {}
        }
      ]
    },
    {
      "cell_type": "code",
      "source": [
        "from sklearn.metrics import classification_report\n",
        "predictions = lstm.predict(X_test_pad)\n",
        "target_names=['positive','negative','neutral']\n",
        "print(classification_report(np.argmax(y_test,axis=1),np.argmax(predictions,axis=1),target_names=target_names))"
      ],
      "metadata": {
        "execution": {
          "iopub.status.busy": "2022-10-26T05:59:13.441193Z",
          "iopub.execute_input": "2022-10-26T05:59:13.442786Z",
          "iopub.status.idle": "2022-10-26T05:59:16.187867Z",
          "shell.execute_reply.started": "2022-10-26T05:59:13.442747Z",
          "shell.execute_reply": "2022-10-26T05:59:16.186693Z"
        },
        "trusted": true,
        "colab": {
          "base_uri": "https://localhost:8080/"
        },
        "id": "RvqcHESzMwJu",
        "outputId": "6b8c3d5f-d03a-4520-ce98-560627e5b7eb"
      },
      "execution_count": 45,
      "outputs": [
        {
          "output_type": "stream",
          "name": "stdout",
          "text": [
            "55/55 [==============================] - 3s 13ms/step\n",
            "              precision    recall  f1-score   support\n",
            "\n",
            "    positive       0.72      0.60      0.65       556\n",
            "    negative       0.29      0.19      0.23       258\n",
            "     neutral       0.68      0.81      0.74       939\n",
            "\n",
            "    accuracy                           0.65      1753\n",
            "   macro avg       0.56      0.53      0.54      1753\n",
            "weighted avg       0.63      0.65      0.63      1753\n",
            "\n"
          ]
        }
      ]
    },
    {
      "cell_type": "code",
      "source": [
        "# Play an audio beep. Any audio URL will do.\n",
        "from google.colab import output\n",
        "output.eval_js('new Audio(\"https://upload.wikimedia.org/wikipedia/commons/0/05/Beep-09.ogg\").play()')"
      ],
      "metadata": {
        "id": "DJraTD3BbVnh"
      },
      "execution_count": 46,
      "outputs": []
    },
    {
      "cell_type": "markdown",
      "source": [
        "## Glove+LSTM"
      ],
      "metadata": {
        "id": "ZGeVoHFplGJC"
      }
    },
    {
      "cell_type": "code",
      "source": [
        "import gensim.downloader as api\n",
        "glove_gensim  = api.load('glove-wiki-gigaword-300')"
      ],
      "metadata": {
        "execution": {
          "iopub.status.busy": "2022-10-26T05:59:16.189317Z",
          "iopub.execute_input": "2022-10-26T05:59:16.190440Z",
          "iopub.status.idle": "2022-10-26T06:00:23.966044Z",
          "shell.execute_reply.started": "2022-10-26T05:59:16.190388Z",
          "shell.execute_reply": "2022-10-26T06:00:23.964897Z"
        },
        "trusted": true,
        "colab": {
          "base_uri": "https://localhost:8080/"
        },
        "id": "04a_tRYaMwJu",
        "outputId": "f4c09fec-eb0f-41f4-84d2-73f15318c22d"
      },
      "execution_count": 47,
      "outputs": [
        {
          "output_type": "stream",
          "name": "stdout",
          "text": [
            "[=================================================-] 99.2% 372.9/376.1MB downloaded\n"
          ]
        }
      ]
    },
    {
      "cell_type": "code",
      "source": [
        "glove_gensim.most_similar(positive=['king','woman'],negative=['man'],topn=1)"
      ],
      "metadata": {
        "execution": {
          "iopub.status.busy": "2022-10-26T06:00:23.967467Z",
          "iopub.execute_input": "2022-10-26T06:00:23.968056Z",
          "iopub.status.idle": "2022-10-26T06:00:24.232286Z",
          "shell.execute_reply.started": "2022-10-26T06:00:23.968016Z",
          "shell.execute_reply": "2022-10-26T06:00:24.230985Z"
        },
        "trusted": true,
        "colab": {
          "base_uri": "https://localhost:8080/"
        },
        "id": "xn07ZcrZMwJu",
        "outputId": "df7897a3-40cd-4f50-aecd-440b1626c286"
      },
      "execution_count": 48,
      "outputs": [
        {
          "output_type": "execute_result",
          "data": {
            "text/plain": [
              "[('queen', 0.6713277101516724)]"
            ]
          },
          "metadata": {},
          "execution_count": 48
        }
      ]
    },
    {
      "cell_type": "code",
      "source": [
        "vector_size = 300\n",
        "gensim_weight_matrix = np.zeros((num_words ,vector_size))\n",
        "gensim_weight_matrix.shape\n",
        "\n",
        "for word, index in tqdm(tokenizer.word_index.items()):\n",
        "    if index < num_words: # since index starts with zero \n",
        "        try:\n",
        "            gensim_weight_matrix[index] = glove_gensim[word]\n",
        "        except:\n",
        "            gensim_weight_matrix[index] = np.zeros(300)"
      ],
      "metadata": {
        "execution": {
          "iopub.status.busy": "2022-10-26T06:00:24.242671Z",
          "iopub.execute_input": "2022-10-26T06:00:24.243435Z",
          "iopub.status.idle": "2022-10-26T06:00:24.395845Z",
          "shell.execute_reply.started": "2022-10-26T06:00:24.243379Z",
          "shell.execute_reply": "2022-10-26T06:00:24.394553Z"
        },
        "trusted": true,
        "colab": {
          "base_uri": "https://localhost:8080/",
          "height": 49,
          "referenced_widgets": [
            "57beef33a2904dd9aec05df37986ce18",
            "edc0453d38c84a33aece60708d5ffdc2",
            "827032e568a742a39f6d9ac1b6af656a",
            "daac5996d9e045669017069d165ae82f",
            "286d62b4e6b94ac89f23333346a7ceb6",
            "f99252825cc24f9ead37e91604db67f6",
            "1ba669b6ea5342ff987965f8c105c383",
            "375aeafeeb2b44a9ab931410cf5cf8b5",
            "04c5d11d98884551b634e062497b1feb",
            "daba1362736e49299d66eb9764a1debb",
            "40df6439dbcc4c04b127fd2f5bc9474b"
          ]
        },
        "id": "iWYuV2kFMwJv",
        "outputId": "a60da9cd-0c4b-46a8-dfa0-ba5052b30398"
      },
      "execution_count": 49,
      "outputs": [
        {
          "output_type": "display_data",
          "data": {
            "text/plain": [
              "  0%|          | 0/10855 [00:00<?, ?it/s]"
            ],
            "application/vnd.jupyter.widget-view+json": {
              "version_major": 2,
              "version_minor": 0,
              "model_id": "57beef33a2904dd9aec05df37986ce18"
            }
          },
          "metadata": {}
        }
      ]
    },
    {
      "cell_type": "code",
      "source": [
        "gensim_weight_matrix.shape"
      ],
      "metadata": {
        "execution": {
          "iopub.status.busy": "2022-10-26T06:00:24.397272Z",
          "iopub.execute_input": "2022-10-26T06:00:24.398315Z",
          "iopub.status.idle": "2022-10-26T06:00:24.405128Z",
          "shell.execute_reply.started": "2022-10-26T06:00:24.398277Z",
          "shell.execute_reply": "2022-10-26T06:00:24.404035Z"
        },
        "trusted": true,
        "colab": {
          "base_uri": "https://localhost:8080/"
        },
        "id": "PJrs94sLMwJv",
        "outputId": "de505007-f07a-4e2f-8b21-f4f14af05690"
      },
      "execution_count": 50,
      "outputs": [
        {
          "output_type": "execute_result",
          "data": {
            "text/plain": [
              "(12000, 300)"
            ]
          },
          "metadata": {},
          "execution_count": 50
        }
      ]
    },
    {
      "cell_type": "code",
      "source": [
        "glove = Sequential()\n",
        "glove.add(Embedding(input_dim = num_words,\n",
        "                          output_dim = 300,\n",
        "                          input_length= X_train_pad.shape[1],\n",
        "                          weights = [gensim_weight_matrix],\n",
        "                          trainable = False))\n",
        "glove.add(Dropout(0.2))\n",
        "glove.add(Bidirectional(LSTM(128,return_sequences=True)))\n",
        "glove.add(Dropout(0.2))\n",
        "glove.add(Bidirectional(LSTM(256,return_sequences=True)))\n",
        "glove.add(Dropout(0.2))\n",
        "glove.add(Bidirectional(LSTM(128,return_sequences=False)))\n",
        "glove.add(Dense(64,activation='tanh'))\n",
        "glove.add(Dense(32,activation='tanh'))\n",
        "glove.add(Dense(10,activation='tanh'))\n",
        "glove.add(Dense(3,activation='softmax'))"
      ],
      "metadata": {
        "execution": {
          "iopub.status.busy": "2022-10-26T06:00:24.406681Z",
          "iopub.execute_input": "2022-10-26T06:00:24.407793Z",
          "iopub.status.idle": "2022-10-26T06:00:26.037098Z",
          "shell.execute_reply.started": "2022-10-26T06:00:24.407757Z",
          "shell.execute_reply": "2022-10-26T06:00:26.035476Z"
        },
        "trusted": true,
        "id": "SagDiZS-MwJv"
      },
      "execution_count": 51,
      "outputs": []
    },
    {
      "cell_type": "code",
      "source": [
        "glove.summary()"
      ],
      "metadata": {
        "execution": {
          "iopub.status.busy": "2022-10-26T06:00:26.038634Z",
          "iopub.execute_input": "2022-10-26T06:00:26.039252Z",
          "iopub.status.idle": "2022-10-26T06:00:26.049743Z",
          "shell.execute_reply.started": "2022-10-26T06:00:26.039214Z",
          "shell.execute_reply": "2022-10-26T06:00:26.048468Z"
        },
        "trusted": true,
        "colab": {
          "base_uri": "https://localhost:8080/"
        },
        "id": "8a2R2KgqMwJv",
        "outputId": "0199b29e-2374-480e-f5c0-d91f85f4143d"
      },
      "execution_count": 52,
      "outputs": [
        {
          "output_type": "stream",
          "name": "stdout",
          "text": [
            "Model: \"sequential_1\"\n",
            "_________________________________________________________________\n",
            " Layer (type)                Output Shape              Param #   \n",
            "=================================================================\n",
            " embedding_1 (Embedding)     (None, 81, 300)           3600000   \n",
            "                                                                 \n",
            " dropout_3 (Dropout)         (None, 81, 300)           0         \n",
            "                                                                 \n",
            " bidirectional_3 (Bidirectio  (None, 81, 256)          439296    \n",
            " nal)                                                            \n",
            "                                                                 \n",
            " dropout_4 (Dropout)         (None, 81, 256)           0         \n",
            "                                                                 \n",
            " bidirectional_4 (Bidirectio  (None, 81, 512)          1050624   \n",
            " nal)                                                            \n",
            "                                                                 \n",
            " dropout_5 (Dropout)         (None, 81, 512)           0         \n",
            "                                                                 \n",
            " bidirectional_5 (Bidirectio  (None, 256)              656384    \n",
            " nal)                                                            \n",
            "                                                                 \n",
            " dense_4 (Dense)             (None, 64)                16448     \n",
            "                                                                 \n",
            " dense_5 (Dense)             (None, 32)                2080      \n",
            "                                                                 \n",
            " dense_6 (Dense)             (None, 10)                330       \n",
            "                                                                 \n",
            " dense_7 (Dense)             (None, 3)                 33        \n",
            "                                                                 \n",
            "=================================================================\n",
            "Total params: 5,765,195\n",
            "Trainable params: 2,165,195\n",
            "Non-trainable params: 3,600,000\n",
            "_________________________________________________________________\n"
          ]
        }
      ]
    },
    {
      "cell_type": "code",
      "source": [
        "glove.compile(optimizer='adam',loss='categorical_crossentropy',metrics=['accuracy'])"
      ],
      "metadata": {
        "execution": {
          "iopub.status.busy": "2022-10-26T06:00:26.051936Z",
          "iopub.execute_input": "2022-10-26T06:00:26.053031Z",
          "iopub.status.idle": "2022-10-26T06:00:26.065945Z",
          "shell.execute_reply.started": "2022-10-26T06:00:26.052990Z",
          "shell.execute_reply": "2022-10-26T06:00:26.063851Z"
        },
        "trusted": true,
        "id": "663Lg7AiMwJv"
      },
      "execution_count": 53,
      "outputs": []
    },
    {
      "cell_type": "code",
      "source": [
        "glove_history = glove.fit(X_train_pad,y_train, epochs = 10, batch_size = 64, validation_data=(X_test_pad, y_test),verbose = 1, callbacks= [es, mc])"
      ],
      "metadata": {
        "execution": {
          "iopub.status.busy": "2022-10-26T06:00:26.068378Z",
          "iopub.execute_input": "2022-10-26T06:00:26.069770Z",
          "iopub.status.idle": "2022-10-26T06:01:06.454650Z",
          "shell.execute_reply.started": "2022-10-26T06:00:26.069680Z",
          "shell.execute_reply": "2022-10-26T06:01:06.453584Z"
        },
        "trusted": true,
        "colab": {
          "base_uri": "https://localhost:8080/"
        },
        "id": "_4kwQ4HtMwJv",
        "outputId": "3c3fbba6-e86e-4b83-a24a-ac7ce76fe1bd"
      },
      "execution_count": 54,
      "outputs": [
        {
          "output_type": "stream",
          "name": "stdout",
          "text": [
            "Epoch 1/10\n",
            "64/64 [==============================] - ETA: 0s - loss: 0.8660 - accuracy: 0.6063\n",
            "Epoch 1: val_accuracy did not improve from 0.67998\n",
            "64/64 [==============================] - 17s 84ms/step - loss: 0.8660 - accuracy: 0.6063 - val_loss: 0.7790 - val_accuracy: 0.6497\n",
            "Epoch 2/10\n",
            "64/64 [==============================] - ETA: 0s - loss: 0.7172 - accuracy: 0.6850\n",
            "Epoch 2: val_accuracy did not improve from 0.67998\n",
            "64/64 [==============================] - 5s 74ms/step - loss: 0.7172 - accuracy: 0.6850 - val_loss: 0.7563 - val_accuracy: 0.6634\n",
            "Epoch 3/10\n",
            "64/64 [==============================] - ETA: 0s - loss: 0.6297 - accuracy: 0.7229\n",
            "Epoch 3: val_accuracy improved from 0.67998 to 0.68682, saving model to ./model.h5\n",
            "64/64 [==============================] - 6s 94ms/step - loss: 0.6297 - accuracy: 0.7229 - val_loss: 0.7271 - val_accuracy: 0.6868\n",
            "Epoch 4/10\n",
            "63/64 [============================>.] - ETA: 0s - loss: 0.6121 - accuracy: 0.7391\n",
            "Epoch 4: val_accuracy improved from 0.68682 to 0.69082, saving model to ./model.h5\n",
            "64/64 [==============================] - 4s 62ms/step - loss: 0.6117 - accuracy: 0.7386 - val_loss: 0.6926 - val_accuracy: 0.6908\n",
            "Epoch 5/10\n",
            "63/64 [============================>.] - ETA: 0s - loss: 0.5264 - accuracy: 0.7753\n",
            "Epoch 5: val_accuracy improved from 0.69082 to 0.70451, saving model to ./model.h5\n",
            "64/64 [==============================] - 3s 49ms/step - loss: 0.5271 - accuracy: 0.7755 - val_loss: 0.7101 - val_accuracy: 0.7045\n",
            "Epoch 6/10\n",
            "63/64 [============================>.] - ETA: 0s - loss: 0.4737 - accuracy: 0.7919\n",
            "Epoch 6: val_accuracy did not improve from 0.70451\n",
            "64/64 [==============================] - 4s 56ms/step - loss: 0.4734 - accuracy: 0.7916 - val_loss: 0.7301 - val_accuracy: 0.7034\n",
            "Epoch 7/10\n",
            "64/64 [==============================] - ETA: 0s - loss: 0.4367 - accuracy: 0.8156\n",
            "Epoch 7: val_accuracy did not improve from 0.70451\n",
            "64/64 [==============================] - 3s 51ms/step - loss: 0.4367 - accuracy: 0.8156 - val_loss: 0.7249 - val_accuracy: 0.6942\n",
            "Epoch 8/10\n",
            "63/64 [============================>.] - ETA: 0s - loss: 0.3858 - accuracy: 0.8294\n",
            "Epoch 8: val_accuracy did not improve from 0.70451\n",
            "64/64 [==============================] - 3s 50ms/step - loss: 0.3855 - accuracy: 0.8298 - val_loss: 0.7300 - val_accuracy: 0.7045\n",
            "Epoch 9/10\n",
            "63/64 [============================>.] - ETA: 0s - loss: 0.3541 - accuracy: 0.8455\n",
            "Epoch 9: val_accuracy improved from 0.70451 to 0.72504, saving model to ./model.h5\n",
            "64/64 [==============================] - 3s 49ms/step - loss: 0.3547 - accuracy: 0.8457 - val_loss: 0.7398 - val_accuracy: 0.7250\n",
            "Epoch 9: early stopping\n"
          ]
        }
      ]
    },
    {
      "cell_type": "code",
      "source": [
        "plt.plot(glove_history.history['accuracy'], label='Train Data')\n",
        "plt.plot(glove_history.history['val_accuracy'], label='Test Data')\n",
        "plt.xlabel('Epoch')\n",
        "plt.ylabel('Accuracy')\n",
        "#plt.ylim([0.98, 1])\n",
        "plt.legend(loc='best')\n",
        "plt.show()"
      ],
      "metadata": {
        "execution": {
          "iopub.status.busy": "2022-10-26T06:01:06.456445Z",
          "iopub.execute_input": "2022-10-26T06:01:06.457718Z",
          "iopub.status.idle": "2022-10-26T06:01:06.735898Z",
          "shell.execute_reply.started": "2022-10-26T06:01:06.457686Z",
          "shell.execute_reply": "2022-10-26T06:01:06.734967Z"
        },
        "trusted": true,
        "id": "tmqEgwtNMwJv",
        "colab": {
          "base_uri": "https://localhost:8080/",
          "height": 279
        },
        "outputId": "7a0dd0f6-0f69-45d0-e919-2acbec48d6dc"
      },
      "execution_count": 55,
      "outputs": [
        {
          "output_type": "display_data",
          "data": {
            "text/plain": [
              "<Figure size 432x288 with 1 Axes>"
            ],
            "image/png": "[encoded data removed]"
          },
          "metadata": {}
        }
      ]
    },
    {
      "cell_type": "code",
      "source": [
        "plt.plot(glove_history.history['loss'], label='Train loss')\n",
        "plt.plot(glove_history.history['val_loss'], label='Test loss')\n",
        "plt.xlabel('Epoch')\n",
        "plt.ylabel('Loss')\n",
        "plt.legend(loc='best')\n",
        "plt.show()"
      ],
      "metadata": {
        "execution": {
          "iopub.status.busy": "2022-10-26T06:01:06.737227Z",
          "iopub.execute_input": "2022-10-26T06:01:06.737601Z",
          "iopub.status.idle": "2022-10-26T06:01:06.992398Z",
          "shell.execute_reply.started": "2022-10-26T06:01:06.737564Z",
          "shell.execute_reply": "2022-10-26T06:01:06.991419Z"
        },
        "trusted": true,
        "id": "7v8xgEINMwJw",
        "colab": {
          "base_uri": "https://localhost:8080/",
          "height": 279
        },
        "outputId": "b916a78f-2251-46fb-8b16-616d04c3d486"
      },
      "execution_count": 56,
      "outputs": [
        {
          "output_type": "display_data",
          "data": {
            "text/plain": [
              "<Figure size 432x288 with 1 Axes>"
            ],
            "image/png": "[encoded data removed]"
          },
          "metadata": {}
        }
      ]
    },
    {
      "cell_type": "code",
      "source": [
        "predictions = glove.predict(X_test_pad)\n",
        "target_names=['positive','negative','neutral']\n",
        "print(classification_report(np.argmax(y_test,axis=1),np.argmax(predictions,axis=1),target_names=target_names))"
      ],
      "metadata": {
        "execution": {
          "iopub.status.busy": "2022-10-26T06:01:06.993875Z",
          "iopub.execute_input": "2022-10-26T06:01:06.994532Z",
          "iopub.status.idle": "2022-10-26T06:01:09.704042Z",
          "shell.execute_reply.started": "2022-10-26T06:01:06.994478Z",
          "shell.execute_reply": "2022-10-26T06:01:09.702949Z"
        },
        "trusted": true,
        "id": "Xsx0uHgrMwJw",
        "colab": {
          "base_uri": "https://localhost:8080/"
        },
        "outputId": "4acee16a-1033-4b7c-94b9-fbfc3332e931"
      },
      "execution_count": 57,
      "outputs": [
        {
          "output_type": "stream",
          "name": "stdout",
          "text": [
            "55/55 [==============================] - 4s 14ms/step\n",
            "              precision    recall  f1-score   support\n",
            "\n",
            "    positive       0.71      0.74      0.72       556\n",
            "    negative       0.52      0.20      0.29       258\n",
            "     neutral       0.75      0.86      0.80       939\n",
            "\n",
            "    accuracy                           0.73      1753\n",
            "   macro avg       0.66      0.60      0.61      1753\n",
            "weighted avg       0.70      0.73      0.70      1753\n",
            "\n"
          ]
        }
      ]
    },
    {
      "cell_type": "code",
      "source": [
        "# Play an audio beep. Any audio URL will do.\n",
        "from google.colab import output\n",
        "output.eval_js('new Audio(\"https://upload.wikimedia.org/wikipedia/commons/0/05/Beep-09.ogg\").play()')"
      ],
      "metadata": {
        "id": "mm0FRDq1lMSC"
      },
      "execution_count": 58,
      "outputs": []
    },
    {
      "cell_type": "markdown",
      "source": [
        "## Glove+GRU"
      ],
      "metadata": {
        "id": "OT2g9uMiMwJw"
      }
    },
    {
      "cell_type": "code",
      "source": [
        "from keras.layers import GRU\n",
        "gru = Sequential()\n",
        "gru.add(Embedding(input_dim = num_words,\n",
        "                          output_dim = 300,\n",
        "                          input_length= X_train_pad.shape[1],\n",
        "                          weights = [gensim_weight_matrix],\n",
        "                          trainable = False))\n",
        "gru.add(Dropout(0.2))\n",
        "gru.add(Bidirectional(GRU(128,return_sequences=True)))\n",
        "gru.add(Dropout(0.2))\n",
        "gru.add(Bidirectional(GRU(256,return_sequences=True)))\n",
        "gru.add(Dropout(0.2))\n",
        "gru.add(Bidirectional(GRU(128,return_sequences=False)))\n",
        "gru.add(Dense(64,activation='tanh'))\n",
        "gru.add(Dense(32,activation='tanh'))\n",
        "gru.add(Dense(10,activation='tanh'))\n",
        "gru.add(Dense(3,activation='softmax'))"
      ],
      "metadata": {
        "execution": {
          "iopub.status.busy": "2022-10-26T06:01:09.705667Z",
          "iopub.execute_input": "2022-10-26T06:01:09.706241Z",
          "iopub.status.idle": "2022-10-26T06:01:11.006327Z",
          "shell.execute_reply.started": "2022-10-26T06:01:09.706203Z",
          "shell.execute_reply": "2022-10-26T06:01:11.005326Z"
        },
        "trusted": true,
        "id": "x3XtGzqXMwJw"
      },
      "execution_count": 59,
      "outputs": []
    },
    {
      "cell_type": "code",
      "source": [
        "gru.summary()"
      ],
      "metadata": {
        "execution": {
          "iopub.status.busy": "2022-10-26T06:01:11.007808Z",
          "iopub.execute_input": "2022-10-26T06:01:11.008522Z",
          "iopub.status.idle": "2022-10-26T06:01:11.017794Z",
          "shell.execute_reply.started": "2022-10-26T06:01:11.008464Z",
          "shell.execute_reply": "2022-10-26T06:01:11.016719Z"
        },
        "trusted": true,
        "id": "IDu0mdzyMwJw",
        "colab": {
          "base_uri": "https://localhost:8080/"
        },
        "outputId": "6a7a9648-6721-4424-aa13-7ca87b7189cd"
      },
      "execution_count": 60,
      "outputs": [
        {
          "output_type": "stream",
          "name": "stdout",
          "text": [
            "Model: \"sequential_2\"\n",
            "_________________________________________________________________\n",
            " Layer (type)                Output Shape              Param #   \n",
            "=================================================================\n",
            " embedding_2 (Embedding)     (None, 81, 300)           3600000   \n",
            "                                                                 \n",
            " dropout_6 (Dropout)         (None, 81, 300)           0         \n",
            "                                                                 \n",
            " bidirectional_6 (Bidirectio  (None, 81, 256)          330240    \n",
            " nal)                                                            \n",
            "                                                                 \n",
            " dropout_7 (Dropout)         (None, 81, 256)           0         \n",
            "                                                                 \n",
            " bidirectional_7 (Bidirectio  (None, 81, 512)          789504    \n",
            " nal)                                                            \n",
            "                                                                 \n",
            " dropout_8 (Dropout)         (None, 81, 512)           0         \n",
            "                                                                 \n",
            " bidirectional_8 (Bidirectio  (None, 256)              493056    \n",
            " nal)                                                            \n",
            "                                                                 \n",
            " dense_8 (Dense)             (None, 64)                16448     \n",
            "                                                                 \n",
            " dense_9 (Dense)             (None, 32)                2080      \n",
            "                                                                 \n",
            " dense_10 (Dense)            (None, 10)                330       \n",
            "                                                                 \n",
            " dense_11 (Dense)            (None, 3)                 33        \n",
            "                                                                 \n",
            "=================================================================\n",
            "Total params: 5,231,691\n",
            "Trainable params: 1,631,691\n",
            "Non-trainable params: 3,600,000\n",
            "_________________________________________________________________\n"
          ]
        }
      ]
    },
    {
      "cell_type": "code",
      "source": [
        "gru.compile(optimizer='adam',loss='categorical_crossentropy',metrics=['accuracy'])"
      ],
      "metadata": {
        "execution": {
          "iopub.status.busy": "2022-10-26T06:01:11.019717Z",
          "iopub.execute_input": "2022-10-26T06:01:11.020629Z",
          "iopub.status.idle": "2022-10-26T06:01:11.031934Z",
          "shell.execute_reply.started": "2022-10-26T06:01:11.020590Z",
          "shell.execute_reply": "2022-10-26T06:01:11.030719Z"
        },
        "trusted": true,
        "id": "creNSRzsMwJx"
      },
      "execution_count": 61,
      "outputs": []
    },
    {
      "cell_type": "code",
      "source": [
        "gru_history = gru.fit(X_train_pad,y_train, epochs = 10, batch_size = 64, validation_data=(X_test_pad, y_test),verbose = 1, callbacks= [es, mc])"
      ],
      "metadata": {
        "execution": {
          "iopub.status.busy": "2022-10-26T06:01:11.033891Z",
          "iopub.execute_input": "2022-10-26T06:01:11.034610Z",
          "iopub.status.idle": "2022-10-26T06:01:58.828565Z",
          "shell.execute_reply.started": "2022-10-26T06:01:11.034574Z",
          "shell.execute_reply": "2022-10-26T06:01:58.827640Z"
        },
        "trusted": true,
        "id": "xeo1ROIGMwJx",
        "colab": {
          "base_uri": "https://localhost:8080/"
        },
        "outputId": "5118bf93-d8f3-4765-c2fa-044976f21a3e"
      },
      "execution_count": 62,
      "outputs": [
        {
          "output_type": "stream",
          "name": "stdout",
          "text": [
            "Epoch 1/10\n",
            "64/64 [==============================] - ETA: 0s - loss: 0.8921 - accuracy: 0.6009\n",
            "Epoch 1: val_accuracy did not improve from 0.72504\n",
            "64/64 [==============================] - 17s 74ms/step - loss: 0.8921 - accuracy: 0.6009 - val_loss: 0.8091 - val_accuracy: 0.6612\n",
            "Epoch 2/10\n",
            "63/64 [============================>.] - ETA: 0s - loss: 0.7472 - accuracy: 0.6868\n",
            "Epoch 2: val_accuracy did not improve from 0.72504\n",
            "64/64 [==============================] - 3s 46ms/step - loss: 0.7488 - accuracy: 0.6850 - val_loss: 0.7291 - val_accuracy: 0.6988\n",
            "Epoch 3/10\n",
            "64/64 [==============================] - ETA: 0s - loss: 0.6738 - accuracy: 0.7122\n",
            "Epoch 3: val_accuracy did not improve from 0.72504\n",
            "64/64 [==============================] - 3s 50ms/step - loss: 0.6738 - accuracy: 0.7122 - val_loss: 0.7049 - val_accuracy: 0.6925\n",
            "Epoch 4/10\n",
            "64/64 [==============================] - ETA: 0s - loss: 0.6300 - accuracy: 0.7327\n",
            "Epoch 4: val_accuracy did not improve from 0.72504\n",
            "64/64 [==============================] - 3s 47ms/step - loss: 0.6300 - accuracy: 0.7327 - val_loss: 0.7034 - val_accuracy: 0.7096\n",
            "Epoch 5/10\n",
            "63/64 [============================>.] - ETA: 0s - loss: 0.5751 - accuracy: 0.7626\n",
            "Epoch 5: val_accuracy did not improve from 0.72504\n",
            "64/64 [==============================] - 3s 42ms/step - loss: 0.5765 - accuracy: 0.7616 - val_loss: 0.6936 - val_accuracy: 0.7045\n",
            "Epoch 6/10\n",
            "63/64 [============================>.] - ETA: 0s - loss: 0.5406 - accuracy: 0.7721\n",
            "Epoch 6: val_accuracy did not improve from 0.72504\n",
            "64/64 [==============================] - 3s 43ms/step - loss: 0.5422 - accuracy: 0.7713 - val_loss: 0.6889 - val_accuracy: 0.7153\n",
            "Epoch 7/10\n",
            "63/64 [============================>.] - ETA: 0s - loss: 0.4910 - accuracy: 0.7902\n",
            "Epoch 7: val_accuracy did not improve from 0.72504\n",
            "64/64 [==============================] - 3s 51ms/step - loss: 0.4889 - accuracy: 0.7916 - val_loss: 0.7022 - val_accuracy: 0.7056\n",
            "Epoch 8/10\n",
            "63/64 [============================>.] - ETA: 0s - loss: 0.4639 - accuracy: 0.7974\n",
            "Epoch 8: val_accuracy did not improve from 0.72504\n",
            "64/64 [==============================] - 3s 47ms/step - loss: 0.4646 - accuracy: 0.7970 - val_loss: 0.7167 - val_accuracy: 0.7028\n",
            "Epoch 9/10\n",
            "64/64 [==============================] - ETA: 0s - loss: 0.4120 - accuracy: 0.8237\n",
            "Epoch 9: val_accuracy did not improve from 0.72504\n",
            "64/64 [==============================] - 3s 48ms/step - loss: 0.4120 - accuracy: 0.8237 - val_loss: 0.6849 - val_accuracy: 0.7148\n",
            "Epoch 10/10\n",
            "64/64 [==============================] - ETA: 0s - loss: 0.3773 - accuracy: 0.8357\n",
            "Epoch 10: val_accuracy did not improve from 0.72504\n",
            "64/64 [==============================] - 5s 73ms/step - loss: 0.3773 - accuracy: 0.8357 - val_loss: 0.7261 - val_accuracy: 0.7011\n"
          ]
        }
      ]
    },
    {
      "cell_type": "code",
      "source": [
        "plt.plot(gru_history.history['accuracy'], label='Train Data')\n",
        "plt.plot(gru_history.history['val_accuracy'], label='Test Data')\n",
        "plt.xlabel('Epoch')\n",
        "plt.ylabel('Accuracy')\n",
        "#plt.ylim([0.7, 1])\n",
        "plt.legend(loc='best')\n",
        "plt.show()"
      ],
      "metadata": {
        "execution": {
          "iopub.status.busy": "2022-10-26T06:01:58.830571Z",
          "iopub.execute_input": "2022-10-26T06:01:58.830968Z",
          "iopub.status.idle": "2022-10-26T06:01:59.096357Z",
          "shell.execute_reply.started": "2022-10-26T06:01:58.830930Z",
          "shell.execute_reply": "2022-10-26T06:01:59.094902Z"
        },
        "trusted": true,
        "id": "bsLfzIILMwJx",
        "colab": {
          "base_uri": "https://localhost:8080/",
          "height": 279
        },
        "outputId": "fe418ffe-b48e-46c3-f510-aa5227b1fd80"
      },
      "execution_count": 63,
      "outputs": [
        {
          "output_type": "display_data",
          "data": {
            "text/plain": [
              "<Figure size 432x288 with 1 Axes>"
            ],
            "image/png": "[encoded data removed]"
          },
          "metadata": {}
        }
      ]
    },
    {
      "cell_type": "code",
      "source": [
        "plt.plot(gru_history.history['loss'], label='Train loss')\n",
        "plt.plot(gru_history.history['val_loss'], label='Test loss')\n",
        "plt.xlabel('Epoch')\n",
        "plt.ylabel('Loss')\n",
        "plt.legend(loc='best')\n",
        "plt.show()"
      ],
      "metadata": {
        "execution": {
          "iopub.status.busy": "2022-10-26T06:01:59.100808Z",
          "iopub.execute_input": "2022-10-26T06:01:59.101798Z",
          "iopub.status.idle": "2022-10-26T06:01:59.374213Z",
          "shell.execute_reply.started": "2022-10-26T06:01:59.101759Z",
          "shell.execute_reply": "2022-10-26T06:01:59.373196Z"
        },
        "trusted": true,
        "id": "KhL4pAe7MwJx",
        "colab": {
          "base_uri": "https://localhost:8080/",
          "height": 279
        },
        "outputId": "e0225e81-2bee-4718-bc54-35cb97aaa674"
      },
      "execution_count": 64,
      "outputs": [
        {
          "output_type": "display_data",
          "data": {
            "text/plain": [
              "<Figure size 432x288 with 1 Axes>"
            ],
            "image/png": "[encoded data removed]"
          },
          "metadata": {}
        }
      ]
    },
    {
      "cell_type": "code",
      "source": [
        "predictions = gru.predict(X_test_pad)\n",
        "target_names=['positive','negative','neutral']\n",
        "print(classification_report(np.argmax(y_test,axis=1),np.argmax(predictions,axis=1),target_names=target_names))"
      ],
      "metadata": {
        "execution": {
          "iopub.status.busy": "2022-10-26T06:01:59.375356Z",
          "iopub.execute_input": "2022-10-26T06:01:59.376034Z",
          "iopub.status.idle": "2022-10-26T06:02:02.217722Z",
          "shell.execute_reply.started": "2022-10-26T06:01:59.375975Z",
          "shell.execute_reply": "2022-10-26T06:02:02.216471Z"
        },
        "trusted": true,
        "id": "wapzWVMyMwJx",
        "colab": {
          "base_uri": "https://localhost:8080/"
        },
        "outputId": "22a50fb2-e471-4086-a938-8ca2e1997860"
      },
      "execution_count": 65,
      "outputs": [
        {
          "output_type": "stream",
          "name": "stdout",
          "text": [
            "55/55 [==============================] - 3s 12ms/step\n",
            "              precision    recall  f1-score   support\n",
            "\n",
            "    positive       0.71      0.72      0.72       556\n",
            "    negative       0.41      0.31      0.35       258\n",
            "     neutral       0.75      0.80      0.77       939\n",
            "\n",
            "    accuracy                           0.70      1753\n",
            "   macro avg       0.63      0.61      0.61      1753\n",
            "weighted avg       0.69      0.70      0.69      1753\n",
            "\n"
          ]
        }
      ]
    },
    {
      "cell_type": "code",
      "source": [
        "# Play an audio beep. Any audio URL will do.\n",
        "from google.colab import output\n",
        "output.eval_js('new Audio(\"https://upload.wikimedia.org/wikipedia/commons/0/05/Beep-09.ogg\").play()')"
      ],
      "metadata": {
        "id": "nIifXBG4lZUK"
      },
      "execution_count": 66,
      "outputs": []
    },
    {
      "cell_type": "markdown",
      "source": [
        "## Fasttext+LSTM"
      ],
      "metadata": {
        "id": "LLyB2nKVMwJx"
      }
    },
    {
      "cell_type": "code",
      "source": [
        "import gensim.downloader as api\n",
        "glove_gensim  = api.load('fasttext-wiki-news-subwords-300')"
      ],
      "metadata": {
        "execution": {
          "iopub.status.busy": "2022-10-26T06:02:02.219171Z",
          "iopub.execute_input": "2022-10-26T06:02:02.220799Z",
          "iopub.status.idle": "2022-10-26T06:04:50.502341Z",
          "shell.execute_reply.started": "2022-10-26T06:02:02.220760Z",
          "shell.execute_reply": "2022-10-26T06:04:50.501104Z"
        },
        "trusted": true,
        "id": "0wZ2qRC7MwJx",
        "colab": {
          "base_uri": "https://localhost:8080/"
        },
        "outputId": "0a1565a3-5fc8-4b7c-f2d9-6438979e1821"
      },
      "execution_count": 67,
      "outputs": [
        {
          "output_type": "stream",
          "name": "stdout",
          "text": [
            "[==================================================] 100.0% 958.5/958.4MB downloaded\n"
          ]
        }
      ]
    },
    {
      "cell_type": "code",
      "source": [
        "vector_size = 300\n",
        "gensim_weight_matrix = np.zeros((num_words ,vector_size))\n",
        "gensim_weight_matrix.shape\n",
        "\n",
        "for word, index in tqdm(tokenizer.word_index.items()):\n",
        "    if index < num_words: # since index starts with zero \n",
        "        try:\n",
        "            gensim_weight_matrix[index] = glove_gensim[word]\n",
        "        except:\n",
        "            gensim_weight_matrix[index] = np.zeros(300)"
      ],
      "metadata": {
        "execution": {
          "iopub.status.busy": "2022-10-26T06:04:50.503773Z",
          "iopub.execute_input": "2022-10-26T06:04:50.504818Z",
          "iopub.status.idle": "2022-10-26T06:04:50.658672Z",
          "shell.execute_reply.started": "2022-10-26T06:04:50.504780Z",
          "shell.execute_reply": "2022-10-26T06:04:50.657236Z"
        },
        "trusted": true,
        "id": "-OqEwodtMwJx",
        "colab": {
          "base_uri": "https://localhost:8080/",
          "height": 49,
          "referenced_widgets": [
            "953d36ded33b4d889e73c7b7a6a8b2d3",
            "17dee945050441e186d8073e8c974a7a",
            "2d662c252612484680ce9798411cc0dc",
            "31c6225cfc294206b58f38273eaaa255",
            "06a13620eb9d4688b8ee4a8cebf1c159",
            "372a1d92e4a04c5cabeb5533e121f1b7",
            "07bf3c6708894cb2bd8dfe2108c84224",
            "aecd6dd20e50477bb5616cbd065348d3",
            "02bc2c0f8c7a42ebbc4d0d7508066458",
            "4648d57b81454ca199eff1eb29f39e6c",
            "41f05d3f83f04de1870617d27c76f454"
          ]
        },
        "outputId": "1c80c688-4469-4a7b-87c7-1562a7fe5e92"
      },
      "execution_count": 68,
      "outputs": [
        {
          "output_type": "display_data",
          "data": {
            "text/plain": [
              "  0%|          | 0/10855 [00:00<?, ?it/s]"
            ],
            "application/vnd.jupyter.widget-view+json": {
              "version_major": 2,
              "version_minor": 0,
              "model_id": "953d36ded33b4d889e73c7b7a6a8b2d3"
            }
          },
          "metadata": {}
        }
      ]
    },
    {
      "cell_type": "code",
      "source": [
        "ftext = Sequential()\n",
        "ftext.add(Embedding(input_dim = num_words,\n",
        "                          output_dim = 300,\n",
        "                          input_length= X_train_pad.shape[1],\n",
        "                          weights = [gensim_weight_matrix],\n",
        "                          trainable = False))\n",
        "ftext.add(Dropout(0.2))\n",
        "ftext.add(Bidirectional(LSTM(128,return_sequences=True)))\n",
        "ftext.add(Dropout(0.2))\n",
        "ftext.add(Bidirectional(LSTM(256,return_sequences=True)))\n",
        "ftext.add(Dropout(0.2))\n",
        "ftext.add(Bidirectional(LSTM(128,return_sequences=False)))\n",
        "ftext.add(Dense(64,activation='tanh'))\n",
        "ftext.add(Dense(32,activation='tanh'))\n",
        "ftext.add(Dense(10,activation='tanh'))\n",
        "ftext.add(Dense(3,activation='softmax'))"
      ],
      "metadata": {
        "execution": {
          "iopub.status.busy": "2022-10-26T06:04:50.660167Z",
          "iopub.execute_input": "2022-10-26T06:04:50.661189Z",
          "iopub.status.idle": "2022-10-26T06:04:52.137480Z",
          "shell.execute_reply.started": "2022-10-26T06:04:50.661134Z",
          "shell.execute_reply": "2022-10-26T06:04:52.136382Z"
        },
        "trusted": true,
        "id": "nNzwD013MwJy"
      },
      "execution_count": 69,
      "outputs": []
    },
    {
      "cell_type": "code",
      "source": [
        "ftext.summary()"
      ],
      "metadata": {
        "execution": {
          "iopub.status.busy": "2022-10-26T06:04:52.138779Z",
          "iopub.execute_input": "2022-10-26T06:04:52.139141Z",
          "iopub.status.idle": "2022-10-26T06:04:52.147535Z",
          "shell.execute_reply.started": "2022-10-26T06:04:52.139103Z",
          "shell.execute_reply": "2022-10-26T06:04:52.146386Z"
        },
        "trusted": true,
        "id": "OsFBFlKrMwJy",
        "colab": {
          "base_uri": "https://localhost:8080/"
        },
        "outputId": "e1edc55e-bd5e-4893-cb0e-ccc0337cae04"
      },
      "execution_count": 70,
      "outputs": [
        {
          "output_type": "stream",
          "name": "stdout",
          "text": [
            "Model: \"sequential_3\"\n",
            "_________________________________________________________________\n",
            " Layer (type)                Output Shape              Param #   \n",
            "=================================================================\n",
            " embedding_3 (Embedding)     (None, 81, 300)           3600000   \n",
            "                                                                 \n",
            " dropout_9 (Dropout)         (None, 81, 300)           0         \n",
            "                                                                 \n",
            " bidirectional_9 (Bidirectio  (None, 81, 256)          439296    \n",
            " nal)                                                            \n",
            "                                                                 \n",
            " dropout_10 (Dropout)        (None, 81, 256)           0         \n",
            "                                                                 \n",
            " bidirectional_10 (Bidirecti  (None, 81, 512)          1050624   \n",
            " onal)                                                           \n",
            "                                                                 \n",
            " dropout_11 (Dropout)        (None, 81, 512)           0         \n",
            "                                                                 \n",
            " bidirectional_11 (Bidirecti  (None, 256)              656384    \n",
            " onal)                                                           \n",
            "                                                                 \n",
            " dense_12 (Dense)            (None, 64)                16448     \n",
            "                                                                 \n",
            " dense_13 (Dense)            (None, 32)                2080      \n",
            "                                                                 \n",
            " dense_14 (Dense)            (None, 10)                330       \n",
            "                                                                 \n",
            " dense_15 (Dense)            (None, 3)                 33        \n",
            "                                                                 \n",
            "=================================================================\n",
            "Total params: 5,765,195\n",
            "Trainable params: 2,165,195\n",
            "Non-trainable params: 3,600,000\n",
            "_________________________________________________________________\n"
          ]
        }
      ]
    },
    {
      "cell_type": "code",
      "source": [
        "ftext.compile(optimizer='adam',loss='categorical_crossentropy',metrics=['accuracy'])"
      ],
      "metadata": {
        "execution": {
          "iopub.status.busy": "2022-10-26T06:04:52.148970Z",
          "iopub.execute_input": "2022-10-26T06:04:52.149579Z",
          "iopub.status.idle": "2022-10-26T06:04:52.163688Z",
          "shell.execute_reply.started": "2022-10-26T06:04:52.149543Z",
          "shell.execute_reply": "2022-10-26T06:04:52.162749Z"
        },
        "trusted": true,
        "id": "9UiQ32phMwJy"
      },
      "execution_count": 71,
      "outputs": []
    },
    {
      "cell_type": "code",
      "source": [
        "ftext_history = ftext.fit(X_train_pad,y_train, epochs = 10, batch_size = 64, validation_data=(X_test_pad, y_test),verbose = 1, callbacks= [es, mc])"
      ],
      "metadata": {
        "execution": {
          "iopub.status.busy": "2022-10-26T06:04:52.165181Z",
          "iopub.execute_input": "2022-10-26T06:04:52.165585Z",
          "iopub.status.idle": "2022-10-26T06:05:35.181785Z",
          "shell.execute_reply.started": "2022-10-26T06:04:52.165549Z",
          "shell.execute_reply": "2022-10-26T06:05:35.180083Z"
        },
        "trusted": true,
        "id": "kwAZEq7JMwJy",
        "colab": {
          "base_uri": "https://localhost:8080/"
        },
        "outputId": "860f9da8-c1c9-47ce-e995-32487c19461d"
      },
      "execution_count": 72,
      "outputs": [
        {
          "output_type": "stream",
          "name": "stdout",
          "text": [
            "Epoch 1/10\n",
            "63/64 [============================>.] - ETA: 0s - loss: 0.9443 - accuracy: 0.5523\n",
            "Epoch 1: val_accuracy did not improve from 0.72504\n",
            "64/64 [==============================] - 17s 81ms/step - loss: 0.9428 - accuracy: 0.5529 - val_loss: 0.9016 - val_accuracy: 0.5853\n",
            "Epoch 2/10\n",
            "64/64 [==============================] - ETA: 0s - loss: 0.8585 - accuracy: 0.6141\n",
            "Epoch 2: val_accuracy did not improve from 0.72504\n",
            "64/64 [==============================] - 3s 51ms/step - loss: 0.8585 - accuracy: 0.6141 - val_loss: 0.8389 - val_accuracy: 0.6246\n",
            "Epoch 3/10\n",
            "64/64 [==============================] - ETA: 0s - loss: 0.7818 - accuracy: 0.6539\n",
            "Epoch 3: val_accuracy did not improve from 0.72504\n",
            "64/64 [==============================] - 3s 50ms/step - loss: 0.7818 - accuracy: 0.6539 - val_loss: 0.7917 - val_accuracy: 0.6497\n",
            "Epoch 4/10\n",
            "63/64 [============================>.] - ETA: 0s - loss: 0.7391 - accuracy: 0.6801\n",
            "Epoch 4: val_accuracy did not improve from 0.72504\n",
            "64/64 [==============================] - 3s 48ms/step - loss: 0.7387 - accuracy: 0.6799 - val_loss: 0.7835 - val_accuracy: 0.6503\n",
            "Epoch 5/10\n",
            "63/64 [============================>.] - ETA: 0s - loss: 0.7113 - accuracy: 0.6873\n",
            "Epoch 5: val_accuracy did not improve from 0.72504\n",
            "64/64 [==============================] - 3s 47ms/step - loss: 0.7107 - accuracy: 0.6877 - val_loss: 0.7448 - val_accuracy: 0.6754\n",
            "Epoch 6/10\n",
            "63/64 [============================>.] - ETA: 0s - loss: 0.6832 - accuracy: 0.7083\n",
            "Epoch 6: val_accuracy did not improve from 0.72504\n",
            "64/64 [==============================] - 3s 49ms/step - loss: 0.6828 - accuracy: 0.7082 - val_loss: 0.7370 - val_accuracy: 0.6760\n",
            "Epoch 7/10\n",
            "63/64 [============================>.] - ETA: 0s - loss: 0.6649 - accuracy: 0.7076\n",
            "Epoch 7: val_accuracy did not improve from 0.72504\n",
            "64/64 [==============================] - 3s 50ms/step - loss: 0.6641 - accuracy: 0.7080 - val_loss: 0.7699 - val_accuracy: 0.6634\n",
            "Epoch 8/10\n",
            "63/64 [============================>.] - ETA: 0s - loss: 0.6539 - accuracy: 0.7212\n",
            "Epoch 8: val_accuracy did not improve from 0.72504\n",
            "64/64 [==============================] - 3s 48ms/step - loss: 0.6548 - accuracy: 0.7214 - val_loss: 0.7436 - val_accuracy: 0.6623\n",
            "Epoch 9/10\n",
            "63/64 [============================>.] - ETA: 0s - loss: 0.6533 - accuracy: 0.7197\n",
            "Epoch 9: val_accuracy did not improve from 0.72504\n",
            "64/64 [==============================] - 3s 48ms/step - loss: 0.6554 - accuracy: 0.7190 - val_loss: 0.7107 - val_accuracy: 0.6891\n",
            "Epoch 10/10\n",
            "63/64 [============================>.] - ETA: 0s - loss: 0.5972 - accuracy: 0.7396\n",
            "Epoch 10: val_accuracy did not improve from 0.72504\n",
            "64/64 [==============================] - 3s 51ms/step - loss: 0.5980 - accuracy: 0.7381 - val_loss: 0.7242 - val_accuracy: 0.6743\n"
          ]
        }
      ]
    },
    {
      "cell_type": "code",
      "source": [
        "plt.plot(ftext_history.history['accuracy'], label='Train Data')\n",
        "plt.plot(ftext_history.history['val_accuracy'], label='Test Data')\n",
        "plt.xlabel('Epoch')\n",
        "plt.ylabel('Accuracy')\n",
        "#plt.ylim([0.8, 1])\n",
        "plt.legend(loc='best')\n",
        "plt.show()"
      ],
      "metadata": {
        "execution": {
          "iopub.status.busy": "2022-10-26T06:05:35.183873Z",
          "iopub.execute_input": "2022-10-26T06:05:35.184273Z",
          "iopub.status.idle": "2022-10-26T06:05:35.434394Z",
          "shell.execute_reply.started": "2022-10-26T06:05:35.184231Z",
          "shell.execute_reply": "2022-10-26T06:05:35.433489Z"
        },
        "trusted": true,
        "id": "MYq87uFPMwJy",
        "colab": {
          "base_uri": "https://localhost:8080/",
          "height": 279
        },
        "outputId": "d945c8a4-8fc3-47dd-e80f-bc4d4195abd3"
      },
      "execution_count": 73,
      "outputs": [
        {
          "output_type": "display_data",
          "data": {
            "text/plain": [
              "<Figure size 432x288 with 1 Axes>"
            ],
            "image/png": "[encoded data removed]"
          },
          "metadata": {}
        }
      ]
    },
    {
      "cell_type": "code",
      "source": [
        "plt.plot(ftext_history.history['loss'], label='Train loss')\n",
        "plt.plot(ftext_history.history['val_loss'], label='Test loss')\n",
        "plt.xlabel('Epoch')\n",
        "plt.ylabel('Loss')\n",
        "plt.legend(loc='best')\n",
        "plt.show()"
      ],
      "metadata": {
        "execution": {
          "iopub.status.busy": "2022-10-26T06:05:35.435852Z",
          "iopub.execute_input": "2022-10-26T06:05:35.436261Z",
          "iopub.status.idle": "2022-10-26T06:05:35.677396Z",
          "shell.execute_reply.started": "2022-10-26T06:05:35.436223Z",
          "shell.execute_reply": "2022-10-26T06:05:35.676470Z"
        },
        "trusted": true,
        "id": "Om668kieMwJz",
        "colab": {
          "base_uri": "https://localhost:8080/",
          "height": 279
        },
        "outputId": "18f65eec-498d-4b70-8f8d-3a3e86c193ed"
      },
      "execution_count": 74,
      "outputs": [
        {
          "output_type": "display_data",
          "data": {
            "text/plain": [
              "<Figure size 432x288 with 1 Axes>"
            ],
            "image/png": "[encoded data removed]"
          },
          "metadata": {}
        }
      ]
    },
    {
      "cell_type": "code",
      "source": [
        "predictions = ftext.predict(X_test_pad)\n",
        "target_names=['positive','negative','neutral']\n",
        "print(classification_report(np.argmax(y_test,axis=1),np.argmax(predictions,axis=1),target_names=target_names))"
      ],
      "metadata": {
        "execution": {
          "iopub.status.busy": "2022-10-26T06:05:35.678830Z",
          "iopub.execute_input": "2022-10-26T06:05:35.679233Z",
          "iopub.status.idle": "2022-10-26T06:05:37.961197Z",
          "shell.execute_reply.started": "2022-10-26T06:05:35.679204Z",
          "shell.execute_reply": "2022-10-26T06:05:37.959837Z"
        },
        "trusted": true,
        "id": "vXA7NQL6MwJz",
        "colab": {
          "base_uri": "https://localhost:8080/"
        },
        "outputId": "5812e672-e7ac-4f5d-9730-86273f1f126d"
      },
      "execution_count": 75,
      "outputs": [
        {
          "output_type": "stream",
          "name": "stdout",
          "text": [
            "55/55 [==============================] - 3s 14ms/step\n",
            "              precision    recall  f1-score   support\n",
            "\n",
            "    positive       0.66      0.67      0.66       556\n",
            "    negative       0.44      0.41      0.42       258\n",
            "     neutral       0.74      0.75      0.75       939\n",
            "\n",
            "    accuracy                           0.67      1753\n",
            "   macro avg       0.61      0.61      0.61      1753\n",
            "weighted avg       0.67      0.67      0.67      1753\n",
            "\n"
          ]
        }
      ]
    },
    {
      "cell_type": "markdown",
      "source": [
        "## Results"
      ],
      "metadata": {
        "id": "JMZSgUAQMwJz"
      }
    },
    {
      "cell_type": "markdown",
      "source": [
        "|S.No|Vector Embedding|Reccurent layer|Accuracy|\n",
        "|--|--|--|--|\n",
        "|1|None|LSTM|65%|\n",
        "|2|Glove|LSTM|73%|\n",
        "|3|Glove|GRU|70%|\n",
        "|4|FastText|LSTM|67%|"
      ],
      "metadata": {
        "id": "mHlKT4uNMwJ0"
      }
    },
    {
      "cell_type": "markdown",
      "source": [
        "# Conclusion"
      ],
      "metadata": {
        "id": "GlnXGZvDMwJ0"
      }
    },
    {
      "cell_type": "markdown",
      "source": [
        "The main goal of the work is to produce a model that is capable of identifying the tone of financial news.This is acheived using RNN models such as LSTM and GRU using various embeddings .It is to be noted that the dataset is not capable enough to identify tone perfectly as classes are imbalanced and best accuracy is produced by GLove+LSTM model which is 73%.\n",
        "\n",
        "The real life application of this work can be useful in various approaches such as automation of financial analysis, extracting profits and loses easily and many more.This work is a beginner step in building more complicated approaches."
      ],
      "metadata": {
        "id": "cnWAG2s6MwJ0"
      }
    },
    {
      "cell_type": "markdown",
      "source": [
        "The link to download the dataset: https://www.kaggle.com/datasets/sbhatti/financial-sentiment-analysis\n",
        "\n",
        "\n",
        " Malo, P., Sinha, A., Takala, P., Korhonen, P. and Wallenius, J. (2013): “Good debt or bad debt: Detecting semantic orientations in economic texts.” Journal of the American Society for Information Science and Technology. (in Press)\n"
      ],
      "metadata": {
        "id": "lzi3BMmnNDoT"
      }
    }
  ]
}